{
 "cells": [
  {
   "cell_type": "markdown",
   "id": "475423fa",
   "metadata": {},
   "source": [
    "# Section 0\n",
    "\n",
    "QPM: Assignment **1**\n",
    "\n",
    "SBAI Ilyas\n",
    "\n",
    "*No particular comment about this assignment*"
   ]
  },
  {
   "cell_type": "markdown",
   "id": "7ce133bd",
   "metadata": {},
   "source": [
    "# Question 1.1 of Assignment 1\n",
    "\n",
    "*Use Python to generate random annual returns for 100 years for this asset. Compare the annual mean and volatility of returns from your random data to the true 10% mean and 20%.*"
   ]
  },
  {
   "cell_type": "markdown",
   "id": "a79bdd40",
   "metadata": {},
   "source": [
    "I first define the function ```normalret_simulate(mu, sigma, n_periods, rng):``` to simulate ```n_periods``` returns that follow a normal distribution of mean ```mu```and volatility ```sigma```.<br>\n",
    "I then use this function with the parameters indicated in the question to get annual returns for a 100 years. <br>\n",
    "**We find that both the mean is above and the standard deviation is below the true parameters, but that they are close to them**."
   ]
  },
  {
   "cell_type": "code",
   "execution_count": 13,
   "id": "2742684b",
   "metadata": {},
   "outputs": [
    {
     "name": "stdout",
     "output_type": "stream",
     "text": [
      "The mean of the returns is:  0.10768928408840145 , and the standard deviation of the returns is:  0.19415203290909072\n"
     ]
    }
   ],
   "source": [
    "import numpy as np\n",
    "\n",
    "\n",
    "\n",
    "# Define the function to simulate the path of the stock\n",
    "def normalret_simulate(mu: float, sigma: float, n_periods: int,\n",
    "                 rng: np.random._generator.Generator):\n",
    "    \"\"\"\n",
    "    Simulate returns following a normal distribution with mean mu and volatility sigma.\n",
    "    \"\"\"\n",
    "    \n",
    "    ret = np.empty((n_periods, 1))  # Pre-allocation with an empty array\n",
    "    \n",
    "    # Fill the array with randomly generated returns following the distribution N(mu,sigma)\n",
    "    for i in range(n_periods):\n",
    "        std_innov = sigma * rng.standard_normal(1)\n",
    "        ret[i, :] = mu + std_innov\n",
    "            \n",
    "    return ret\n",
    "\n",
    "\n",
    "# Define the parameters and run the function to get the annual returns\n",
    "mu = 0.1\n",
    "sigma = 0.2\n",
    "n_periods = 100\n",
    "rng = np.random.default_rng(seed = 100)\n",
    "\n",
    "R_annual = normalret_simulate(mu, sigma, n_periods, rng)\n",
    "\n",
    "\n",
    "# Display the results\n",
    "print('The mean of the returns is: ', np.mean(R_annual),', and the standard deviation of the returns is: ', np.std(R_annual))"
   ]
  },
  {
   "cell_type": "markdown",
   "id": "0d6941a4",
   "metadata": {},
   "source": [
    "# Question 1.2 of Assignment 1\n",
    "\n",
    "*Now, generate random monthly returns for 100 years for this risky asset. Compare the annual mean and volatility of returns from your random data to the true 10% mean and 20%.*"
   ]
  },
  {
   "cell_type": "markdown",
   "id": "4c0125d0",
   "metadata": {},
   "source": [
    "I use the previously defined function with monthly returns. Only the n_periods parameter needs to be updated: we multiply 100 years by 12 months. <br>\n",
    "**The mean and volatility are again respectively above and below their true parameters parameters but they are a bit closer to the true parameters, compared to those from the annual returns**."
   ]
  },
  {
   "cell_type": "code",
   "execution_count": 14,
   "id": "6c99dc92",
   "metadata": {},
   "outputs": [
    {
     "name": "stdout",
     "output_type": "stream",
     "text": [
      "The mean of the returns is:  0.10630271793021479 , and the standard deviation of the returns is:  0.1986015227559021\n"
     ]
    }
   ],
   "source": [
    "# Update the parameters\n",
    "n_periods = 12 * 100\n",
    "\n",
    "# Run the function\n",
    "R_monthly = normalret_simulate(mu, sigma, n_periods, rng)\n",
    "\n",
    "# Display the results\n",
    "\n",
    "print('The mean of the returns is: ', np.mean(R_monthly),', and the standard deviation of the returns is: ', np.std(R_monthly))"
   ]
  },
  {
   "cell_type": "markdown",
   "id": "488080ea",
   "metadata": {},
   "source": [
    "# Question 1.3 of Assignment 1\n",
    "\n",
    "*Finally, generate random daily returns for 100 years for this risky asset. Compare the annual mean and volatility of returns from your random data to the true 10% mean and 20%.*"
   ]
  },
  {
   "cell_type": "markdown",
   "id": "4a5459e0",
   "metadata": {},
   "source": [
    "I use the previously defined function with monthly returns. Only the n_periods parameter needs to be updated: we multiply 100 years by 365 days. <br>\n",
    "**The mean and volatility are above a their true parameters parameters but they are a bit closer to the true parameters, compared to those from the annual and monthly returns**."
   ]
  },
  {
   "cell_type": "code",
   "execution_count": 15,
   "id": "1643ace0",
   "metadata": {},
   "outputs": [
    {
     "name": "stdout",
     "output_type": "stream",
     "text": [
      "The mean of the returns is:  0.10257378346870095 , and the standard deviation of the returns is:  0.1999063045114265\n"
     ]
    }
   ],
   "source": [
    "# Update the parameters\n",
    "n_periods = 365 * 100\n",
    "\n",
    "# Run the function\n",
    "R_daily = normalret_simulate(mu, sigma, n_periods, rng)\n",
    "\n",
    "# Display the results\n",
    "print('The mean of the returns is: ', np.mean(R_daily),', and the standard deviation of the returns is: ', np.std(R_daily))"
   ]
  },
  {
   "cell_type": "markdown",
   "id": "d1ff1bf2",
   "metadata": {},
   "source": [
    "# Question 1.4 of Assignment 1\n",
    "\n",
    "*What do you conclude from the results of the three previous questions?.*"
   ]
  },
  {
   "cell_type": "markdown",
   "id": "ba752f0a",
   "metadata": {},
   "source": [
    "**We conclude that as we increase the frequency of the returns, their mean and volatility converge to their true value (which is in line with the Law of Large Numbers).**"
   ]
  },
  {
   "cell_type": "code",
   "execution_count": 16,
   "id": "362522bf",
   "metadata": {},
   "outputs": [
    {
     "name": "stdout",
     "output_type": "stream",
     "text": [
      "The differences between the sample mean and the true parameter for the annual, monthly and daily returns:  0.0076892840884014435 0.0063027179302147796 0.002573783468700949 .\n",
      "\n",
      "The differences between the sample standard deviation and the true parameter for the annual, monthly and daily returns:  -0.00584796709090929 -0.0013984772440979176 -9.369548857351973e-05\n"
     ]
    }
   ],
   "source": [
    "print('The differences between the sample mean and the true parameter for the annual, monthly and daily returns: ', (np.mean(R_annual)-0.1),(np.mean(R_monthly)-0.1),(np.mean(R_daily)-0.1),\".\\n\")\n",
    "\n",
    "print('The differences between the sample standard deviation and the true parameter for the annual, monthly and daily returns: ', (np.std(R_annual)-0.2),(np.std(R_monthly)-0.2),(np.std(R_daily)-0.2))"
   ]
  },
  {
   "cell_type": "code",
   "execution_count": null,
   "id": "ec03e3a4",
   "metadata": {},
   "outputs": [],
   "source": []
  }
 ],
 "metadata": {
  "kernelspec": {
   "display_name": "Python 3 (ipykernel)",
   "language": "python",
   "name": "python3"
  },
  "language_info": {
   "codemirror_mode": {
    "name": "ipython",
    "version": 3
   },
   "file_extension": ".py",
   "mimetype": "text/x-python",
   "name": "python",
   "nbconvert_exporter": "python",
   "pygments_lexer": "ipython3",
   "version": "3.8.18"
  }
 },
 "nbformat": 4,
 "nbformat_minor": 5
}
