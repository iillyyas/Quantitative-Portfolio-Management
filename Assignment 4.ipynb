{
 "cells": [
  {
   "cell_type": "markdown",
   "id": "6d62dc2f",
   "metadata": {},
   "source": [
    "# Section 0\n",
    "\n",
    "QPM: Assignment 4\n",
    "\n",
    "DENG Yunyun <br>\n",
    "LI Jiaxin <br>\n",
    "SBAI Ilyas <br>\n",
    "ZHOU Zhichen <br>\n",
    "\n",
    "Note: We had to change our database obtained from assignment 3 to get the right format for the stock prices"
   ]
  },
  {
   "cell_type": "markdown",
   "id": "b7ffbcb4",
   "metadata": {},
   "source": [
    "# Section 0 (4.0)\n",
    "\n",
    "We retrieve a dataframe ```pricesall``` of the list of the S&P500 adjusted prices that we had saved in an SQL database in the previous assignment.\n",
    "We then create the dataframe ```prices``` containing only the prices for the relevant 10 stocks."
   ]
  },
  {
   "cell_type": "code",
   "execution_count": 1,
   "id": "605f38ef",
   "metadata": {},
   "outputs": [],
   "source": [
    "import pandas as pd\n",
    "import numpy as np\n",
    "import sqlite3\n",
    "\n",
    "# Connecting to the database\n",
    "SnP500 = sqlite3.connect(\n",
    "  database=\"/Users/ilyas/Library/CloudStorage/OneDrive-Personnel/EDHEC/M2/Quantitative Portfolio Management/snp500.sqlite\"\n",
    ")\n",
    "# Retrieving the price data and setting the date as our index\n",
    "pricesall = (pd.read_sql_query(\n",
    "  sql=\"SELECT * FROM SP500dailyprice\",\n",
    "  con=SnP500,\n",
    "  parse_dates={\"date\"})\n",
    ")\n",
    "pricesall = pricesall.set_index('date')\n",
    "pricesall.index = pd.to_datetime(pricesall.index)\n"
   ]
  },
  {
   "cell_type": "code",
   "execution_count": 2,
   "id": "49771775",
   "metadata": {},
   "outputs": [
    {
     "data": {
      "text/html": [
       "<div>\n",
       "<style scoped>\n",
       "    .dataframe tbody tr th:only-of-type {\n",
       "        vertical-align: middle;\n",
       "    }\n",
       "\n",
       "    .dataframe tbody tr th {\n",
       "        vertical-align: top;\n",
       "    }\n",
       "\n",
       "    .dataframe thead th {\n",
       "        text-align: right;\n",
       "    }\n",
       "</style>\n",
       "<table border=\"1\" class=\"dataframe\">\n",
       "  <thead>\n",
       "    <tr style=\"text-align: right;\">\n",
       "      <th></th>\n",
       "      <th>MMM</th>\n",
       "      <th>AOS</th>\n",
       "      <th>ABT</th>\n",
       "      <th>ADM</th>\n",
       "      <th>ADBE</th>\n",
       "      <th>ADP</th>\n",
       "      <th>AES</th>\n",
       "      <th>AFL</th>\n",
       "      <th>A</th>\n",
       "      <th>AKAM</th>\n",
       "    </tr>\n",
       "    <tr>\n",
       "      <th>date</th>\n",
       "      <th></th>\n",
       "      <th></th>\n",
       "      <th></th>\n",
       "      <th></th>\n",
       "      <th></th>\n",
       "      <th></th>\n",
       "      <th></th>\n",
       "      <th></th>\n",
       "      <th></th>\n",
       "      <th></th>\n",
       "    </tr>\n",
       "  </thead>\n",
       "  <tbody>\n",
       "    <tr>\n",
       "      <th>2000-01-31</th>\n",
       "      <td>25.381499</td>\n",
       "      <td>2.318887</td>\n",
       "      <td>8.595265</td>\n",
       "      <td>6.632772</td>\n",
       "      <td>15.531529</td>\n",
       "      <td>24.855753</td>\n",
       "      <td>27.147331</td>\n",
       "      <td>6.522022</td>\n",
       "      <td>41.053272</td>\n",
       "      <td>261.421875</td>\n",
       "    </tr>\n",
       "    <tr>\n",
       "      <th>2000-02-29</th>\n",
       "      <td>23.275792</td>\n",
       "      <td>1.952134</td>\n",
       "      <td>8.785981</td>\n",
       "      <td>6.134495</td>\n",
       "      <td>21.961111</td>\n",
       "      <td>21.956365</td>\n",
       "      <td>29.901538</td>\n",
       "      <td>6.222667</td>\n",
       "      <td>52.513095</td>\n",
       "      <td>243.315625</td>\n",
       "    </tr>\n",
       "    <tr>\n",
       "      <th>2000-03-31</th>\n",
       "      <td>22.689089</td>\n",
       "      <td>1.809411</td>\n",
       "      <td>8.592946</td>\n",
       "      <td>5.456993</td>\n",
       "      <td>23.301387</td>\n",
       "      <td>23.162192</td>\n",
       "      <td>27.540126</td>\n",
       "      <td>6.302783</td>\n",
       "      <td>74.481565</td>\n",
       "      <td>232.730978</td>\n",
       "    </tr>\n",
       "    <tr>\n",
       "      <th>2000-04-30</th>\n",
       "      <td>24.277161</td>\n",
       "      <td>2.076066</td>\n",
       "      <td>10.029198</td>\n",
       "      <td>5.659069</td>\n",
       "      <td>28.146053</td>\n",
       "      <td>24.584584</td>\n",
       "      <td>28.328477</td>\n",
       "      <td>7.361420</td>\n",
       "      <td>56.896264</td>\n",
       "      <td>97.567434</td>\n",
       "    </tr>\n",
       "    <tr>\n",
       "      <th>2000-05-31</th>\n",
       "      <td>22.808310</td>\n",
       "      <td>2.356454</td>\n",
       "      <td>10.406937</td>\n",
       "      <td>5.892190</td>\n",
       "      <td>27.954746</td>\n",
       "      <td>25.561754</td>\n",
       "      <td>29.495449</td>\n",
       "      <td>7.621011</td>\n",
       "      <td>47.869098</td>\n",
       "      <td>78.571733</td>\n",
       "    </tr>\n",
       "  </tbody>\n",
       "</table>\n",
       "</div>"
      ],
      "text/plain": [
       "                  MMM       AOS        ABT       ADM       ADBE        ADP  \\\n",
       "date                                                                         \n",
       "2000-01-31  25.381499  2.318887   8.595265  6.632772  15.531529  24.855753   \n",
       "2000-02-29  23.275792  1.952134   8.785981  6.134495  21.961111  21.956365   \n",
       "2000-03-31  22.689089  1.809411   8.592946  5.456993  23.301387  23.162192   \n",
       "2000-04-30  24.277161  2.076066  10.029198  5.659069  28.146053  24.584584   \n",
       "2000-05-31  22.808310  2.356454  10.406937  5.892190  27.954746  25.561754   \n",
       "\n",
       "                  AES       AFL          A        AKAM  \n",
       "date                                                    \n",
       "2000-01-31  27.147331  6.522022  41.053272  261.421875  \n",
       "2000-02-29  29.901538  6.222667  52.513095  243.315625  \n",
       "2000-03-31  27.540126  6.302783  74.481565  232.730978  \n",
       "2000-04-30  28.328477  7.361420  56.896264   97.567434  \n",
       "2000-05-31  29.495449  7.621011  47.869098   78.571733  "
      ]
     },
     "execution_count": 2,
     "metadata": {},
     "output_type": "execute_result"
    }
   ],
   "source": [
    "# Keeping only the data for the 10 relevant stocks\n",
    "tic = ['MMM','AOS','ABT','ADM','ADBE','ADP','AES','AFL','A','AKAM']\n",
    "prices = pricesall[tic]\n",
    "prices = prices.resample('1M').mean()\n",
    "prices.head()"
   ]
  },
  {
   "cell_type": "markdown",
   "id": "7a9b29cb",
   "metadata": {},
   "source": [
    "# Section 1\n",
    "\n",
    "We first define the necessary data: the risk-free rate ```Rf```, the vector of annualised mean returns ```mu```, the variance-covariance matrix of annualised returns ```sigma``` and its inverse ```sigmainv```. <br>\n",
    "We use the data from the last 60 days."
   ]
  },
  {
   "cell_type": "code",
   "execution_count": 4,
   "id": "cf7ce46e",
   "metadata": {},
   "outputs": [],
   "source": [
    "# Define and compute the necessary data\n",
    "ones = np.ones((10, 1))\n",
    "Rf = 0\n",
    "\n",
    "# Getting the daily returns and computing their mean and covariance matrix (annualised)\n",
    "ret = pd.DataFrame(prices.pct_change())\n",
    "\n",
    "mu = (ret.iloc[-60:]*21).mean()\n",
    "sigma = (ret.iloc[-60:]*21).cov()\n",
    "\n",
    "# Invert of the covariance matrix\n",
    "sigmainv = np.linalg.inv(sigma)"
   ]
  },
  {
   "cell_type": "markdown",
   "id": "4a0c08b6",
   "metadata": {},
   "source": [
    "We define two functions that we will use later to get the weights of the mean-variance portfolio with a risk-free asset and of the global-minimum-variance portfolio."
   ]
  },
  {
   "cell_type": "code",
   "execution_count": 5,
   "id": "f14e8f9a",
   "metadata": {},
   "outputs": [],
   "source": [
    "def solutionWithRf(mu_targ, Rf, sigma, sigmainv):\n",
    "    term1Numerator = (mu_targ - Rf)\n",
    "    #term1Denominator = (mu - Rf*ones).T @ Vinverse @ (mu - Rf*ones)\n",
    "    term1Denominator = (mu - Rf).T @ sigmainv @ (mu - Rf)\n",
    "    term1 = term1Numerator/term1Denominator\n",
    "    #term2 = sigmainv @ (mu - Rf*ones)\n",
    "    term2 = sigmainv @ (mu - Rf)\n",
    "    weightsWithRf = term1 * term2\n",
    "    portfolioVolatilityWithRf = np.sqrt(weightsWithRf.T @ sigma @\n",
    "    weightsWithRf)\n",
    "    \n",
    "    return weightsWithRf"
   ]
  },
  {
   "cell_type": "code",
   "execution_count": 6,
   "id": "fdce9fec",
   "metadata": {},
   "outputs": [],
   "source": [
    "def gmv(sigmainv):\n",
    "    num = sigmainv @ ones\n",
    "    denom = ones.T @ sigmainv @ ones\n",
    "    weights = num/denom\n",
    "    np.reshape(weights,(10,1))\n",
    "    return weights"
   ]
  },
  {
   "cell_type": "code",
   "execution_count": 9,
   "id": "1d02acce",
   "metadata": {},
   "outputs": [
    {
     "name": "stdout",
     "output_type": "stream",
     "text": [
      "The mean-variance portfolio weights are: [-2.94503607 -0.41006722  1.3732776   1.87368596  0.3121177   1.61670329\n",
      " -0.6811443  -0.88721596  1.96565609 -0.00701816]\n",
      "The global-minimum variance portfolio weights are: [[ 0.03880817 -0.09094257  0.39835567  0.2915067  -0.05609607  0.16821823\n",
      "  -0.19011492 -0.01721489  0.29664448  0.16083521]]\n"
     ]
    }
   ],
   "source": [
    "mu_targ = 0.1\n",
    "meanvar_weights60 = solutionWithRf(mu_targ, Rf, sigma, sigmainv)\n",
    "gmv_weights60 = gmv(sigmainv)\n",
    "\n",
    "print('The mean-variance portfolio weights are:',meanvar_weights60)\n",
    "print('The global-minimum variance portfolio weights are:',gmv_weights60.T )"
   ]
  },
  {
   "cell_type": "markdown",
   "id": "10a6615f",
   "metadata": {},
   "source": [
    "# Section 2\n",
    "\n",
    "We initialise the matrices that will contain the weights for the two strategies at all times.<br>\n",
    "We loop through the dates, and at each date compute the weights for the two strategies based on the previous 60 days of daily returns.<br>\n",
    "We arbitrarily chose a mu-targ at 0.1."
   ]
  },
  {
   "cell_type": "code",
   "execution_count": 10,
   "id": "41f4b009",
   "metadata": {
    "scrolled": true
   },
   "outputs": [],
   "source": [
    "weights_meanvar = np.zeros((len(ret)-60,10))\n",
    "weights_gmv = np.zeros((len(ret)-60,10))\n",
    "Rf = 0\n",
    "mu_targ = 0.3\n",
    "\n",
    "for i in range(len(ret)-60-1):\n",
    "    periodret = ret.iloc[i:i+60]\n",
    "    mu = periodret.mean()\n",
    "    sigma = periodret.cov()\n",
    "    sigmainv = np.linalg.inv(sigma)\n",
    "     \n",
    "    weights_meanvar[i,:] = solutionWithRf(mu_targ, Rf, sigma, sigmainv)\n",
    "    \n",
    "    weights_gmv[i:i+1,:] = gmv(sigmainv).T  #i:i+1 not get a shape of (10,1) and not (10,)\n",
    "    "
   ]
  },
  {
   "cell_type": "markdown",
   "id": "ef60187c",
   "metadata": {},
   "source": [
    "# Section 3\n",
    "\n",
    "We compute the out-of-sample returns for both strategy at each date t by multiplying the weights obtained from the stock returns from date t-60 to date t-1 with the stock returns of date t."
   ]
  },
  {
   "cell_type": "code",
   "execution_count": 11,
   "id": "b4390162",
   "metadata": {},
   "outputs": [],
   "source": [
    "# Mean-variance portfolio\n",
    "ret_meanvar = np.dot(weights_meanvar,(ret.iloc[61:].T))\n",
    "ret_meanvar = np.sum(ret_meanvar,0)\n",
    "\n",
    "# Global minimum variance\n",
    "ret_gmv = np.dot(weights_gmv,(ret.iloc[61:].T))\n",
    "ret_gmv = np.sum(ret_gmv,0)"
   ]
  },
  {
   "cell_type": "markdown",
   "id": "d9735d3a",
   "metadata": {},
   "source": [
    "# Section 4\n",
    "\n",
    "We compute both Sharpe returns on annualised data. <br>\n",
    "The mean-variance portfolio has a higher Sharpe ratio."
   ]
  },
  {
   "cell_type": "code",
   "execution_count": 12,
   "id": "3d8deac2",
   "metadata": {},
   "outputs": [
    {
     "name": "stdout",
     "output_type": "stream",
     "text": [
      "The Sharpe ratio for the mean-variance portfolio is: 1.6275447869560316 \n",
      "\n",
      "The Sharpe ratio for the mean-variance portfolio is: 1.2969242054114356\n"
     ]
    }
   ],
   "source": [
    "Sharpe_meanvar = np.mean(ret_meanvar)*np.sqrt(21)/(np.std(ret_meanvar))\n",
    "Sharpe_gmv = np.mean(ret_gmv)*np.sqrt(21)/(np.std(ret_gmv))\n",
    "print('The Sharpe ratio for the mean-variance portfolio is:',Sharpe_meanvar,'\\n')\n",
    "print('The Sharpe ratio for the mean-variance portfolio is:',Sharpe_gmv)"
   ]
  },
  {
   "cell_type": "code",
   "execution_count": null,
   "id": "3d1a4098",
   "metadata": {},
   "outputs": [],
   "source": []
  },
  {
   "cell_type": "code",
   "execution_count": null,
   "id": "f56e1412",
   "metadata": {},
   "outputs": [],
   "source": []
  },
  {
   "cell_type": "code",
   "execution_count": null,
   "id": "97dd8f3e",
   "metadata": {},
   "outputs": [],
   "source": []
  }
 ],
 "metadata": {
  "kernelspec": {
   "display_name": "Python 3 (ipykernel)",
   "language": "python",
   "name": "python3"
  },
  "language_info": {
   "codemirror_mode": {
    "name": "ipython",
    "version": 3
   },
   "file_extension": ".py",
   "mimetype": "text/x-python",
   "name": "python",
   "nbconvert_exporter": "python",
   "pygments_lexer": "ipython3",
   "version": "3.8.18"
  }
 },
 "nbformat": 4,
 "nbformat_minor": 5
}
