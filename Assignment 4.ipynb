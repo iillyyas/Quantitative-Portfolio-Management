{
 "cells": [
  {
   "cell_type": "markdown",
   "id": "6d62dc2f",
   "metadata": {},
   "source": [
    "# Section 0\n",
    "\n",
    "QPM: Assignment 4\n",
    "\n",
    "DENG Yunyun <br>\n",
    "LI Jiaxin <br>\n",
    "SBAI Ilyas <br>\n",
    "ZHOU Zhichen <br>\n",
    "\n",
    "Note: We had to change our database obtained from assignment 3 to get the right format for the stock prices"
   ]
  },
  {
   "cell_type": "markdown",
   "id": "b7ffbcb4",
   "metadata": {},
   "source": [
    "# Section 0 (4.0)\n",
    "\n",
    "We retrieve a dataframe ```pricesall``` of the list of the S&P500 adjusted prices that we had saved in an SQL database in the previous assignment.\n",
    "We then create the dataframe ```prices``` containing only the prices for the relevant 10 stocks."
   ]
  },
  {
   "cell_type": "code",
   "execution_count": 1,
   "id": "dab53f10",
   "metadata": {},
   "outputs": [],
   "source": [
    "import pandas as pd\n",
    "import numpy as np\n",
    "import sqlite3\n",
    "\n",
    "# Connecting to the database\n",
    "SnP500 = sqlite3.connect(\n",
    "  database=\"/Users/ilyas/Library/CloudStorage/OneDrive-Personnel/EDHEC/M2/Quantitative Portfolio Management/snp500.sqlite\"\n",
    ")\n",
    "# Retrieving the price data and setting the date as our index\n",
    "pricesall = (pd.read_sql_query(\n",
    "  sql=\"SELECT * FROM SP500dailyprice\",\n",
    "  con=SnP500,\n",
    "  parse_dates={\"date\"})\n",
    ")\n",
    "pricesall = pricesall.set_index('date')"
   ]
  },
  {
   "cell_type": "code",
   "execution_count": 2,
   "id": "4886a7b1",
   "metadata": {},
   "outputs": [
    {
     "data": {
      "text/html": [
       "<div>\n",
       "<style scoped>\n",
       "    .dataframe tbody tr th:only-of-type {\n",
       "        vertical-align: middle;\n",
       "    }\n",
       "\n",
       "    .dataframe tbody tr th {\n",
       "        vertical-align: top;\n",
       "    }\n",
       "\n",
       "    .dataframe thead th {\n",
       "        text-align: right;\n",
       "    }\n",
       "</style>\n",
       "<table border=\"1\" class=\"dataframe\">\n",
       "  <thead>\n",
       "    <tr style=\"text-align: right;\">\n",
       "      <th></th>\n",
       "      <th>MMM</th>\n",
       "      <th>AOS</th>\n",
       "      <th>ABT</th>\n",
       "      <th>ADM</th>\n",
       "      <th>ADBE</th>\n",
       "      <th>ADP</th>\n",
       "      <th>AES</th>\n",
       "      <th>AFL</th>\n",
       "      <th>A</th>\n",
       "      <th>AKAM</th>\n",
       "    </tr>\n",
       "    <tr>\n",
       "      <th>date</th>\n",
       "      <th></th>\n",
       "      <th></th>\n",
       "      <th></th>\n",
       "      <th></th>\n",
       "      <th></th>\n",
       "      <th></th>\n",
       "      <th></th>\n",
       "      <th></th>\n",
       "      <th></th>\n",
       "      <th></th>\n",
       "    </tr>\n",
       "  </thead>\n",
       "  <tbody>\n",
       "    <tr>\n",
       "      <th>2000-01-03</th>\n",
       "      <td>24.772844</td>\n",
       "      <td>2.349174</td>\n",
       "      <td>9.081108</td>\n",
       "      <td>6.514026</td>\n",
       "      <td>16.274670</td>\n",
       "      <td>25.075768</td>\n",
       "      <td>25.869474</td>\n",
       "      <td>6.998001</td>\n",
       "      <td>43.757759</td>\n",
       "      <td>321.250</td>\n",
       "    </tr>\n",
       "    <tr>\n",
       "      <th>2000-01-04</th>\n",
       "      <td>23.788488</td>\n",
       "      <td>2.315323</td>\n",
       "      <td>8.821647</td>\n",
       "      <td>6.446173</td>\n",
       "      <td>14.909397</td>\n",
       "      <td>25.075768</td>\n",
       "      <td>24.843611</td>\n",
       "      <td>6.812305</td>\n",
       "      <td>40.415146</td>\n",
       "      <td>300.000</td>\n",
       "    </tr>\n",
       "    <tr>\n",
       "      <th>2000-01-05</th>\n",
       "      <td>24.477528</td>\n",
       "      <td>2.308554</td>\n",
       "      <td>8.805433</td>\n",
       "      <td>6.344393</td>\n",
       "      <td>15.204173</td>\n",
       "      <td>24.834650</td>\n",
       "      <td>25.111229</td>\n",
       "      <td>6.773205</td>\n",
       "      <td>37.908180</td>\n",
       "      <td>283.500</td>\n",
       "    </tr>\n",
       "    <tr>\n",
       "      <th>2000-01-06</th>\n",
       "      <td>26.446236</td>\n",
       "      <td>2.274704</td>\n",
       "      <td>9.113542</td>\n",
       "      <td>6.378315</td>\n",
       "      <td>15.328286</td>\n",
       "      <td>25.166182</td>\n",
       "      <td>25.311947</td>\n",
       "      <td>6.910042</td>\n",
       "      <td>36.464790</td>\n",
       "      <td>236.125</td>\n",
       "    </tr>\n",
       "    <tr>\n",
       "      <th>2000-01-07</th>\n",
       "      <td>26.971220</td>\n",
       "      <td>2.369483</td>\n",
       "      <td>9.210837</td>\n",
       "      <td>6.480096</td>\n",
       "      <td>16.072981</td>\n",
       "      <td>25.738836</td>\n",
       "      <td>25.802568</td>\n",
       "      <td>7.046870</td>\n",
       "      <td>39.503510</td>\n",
       "      <td>248.375</td>\n",
       "    </tr>\n",
       "  </tbody>\n",
       "</table>\n",
       "</div>"
      ],
      "text/plain": [
       "                  MMM       AOS       ABT       ADM       ADBE        ADP  \\\n",
       "date                                                                        \n",
       "2000-01-03  24.772844  2.349174  9.081108  6.514026  16.274670  25.075768   \n",
       "2000-01-04  23.788488  2.315323  8.821647  6.446173  14.909397  25.075768   \n",
       "2000-01-05  24.477528  2.308554  8.805433  6.344393  15.204173  24.834650   \n",
       "2000-01-06  26.446236  2.274704  9.113542  6.378315  15.328286  25.166182   \n",
       "2000-01-07  26.971220  2.369483  9.210837  6.480096  16.072981  25.738836   \n",
       "\n",
       "                  AES       AFL          A     AKAM  \n",
       "date                                                 \n",
       "2000-01-03  25.869474  6.998001  43.757759  321.250  \n",
       "2000-01-04  24.843611  6.812305  40.415146  300.000  \n",
       "2000-01-05  25.111229  6.773205  37.908180  283.500  \n",
       "2000-01-06  25.311947  6.910042  36.464790  236.125  \n",
       "2000-01-07  25.802568  7.046870  39.503510  248.375  "
      ]
     },
     "execution_count": 2,
     "metadata": {},
     "output_type": "execute_result"
    }
   ],
   "source": [
    "# Keeping only the data for the 10 relevant stocks\n",
    "tic = ['MMM','AOS','ABT','ADM','ADBE','ADP','AES','AFL','A','AKAM']\n",
    "prices = pricesall[tic]\n",
    "prices.head()"
   ]
  },
  {
   "cell_type": "markdown",
   "id": "4a457e34",
   "metadata": {},
   "source": [
    "# Section 1\n",
    "\n",
    "We first define the necessary data: the risk-free rate ```Rf```, the vector of annualised mean returns ```mu```, the variance-covariance matrix of annualised returns ```sigma``` and its inverse ```sigmainv```. <br>\n",
    "We use the data from the last 60 days."
   ]
  },
  {
   "cell_type": "code",
   "execution_count": 3,
   "id": "552c2d7a",
   "metadata": {},
   "outputs": [],
   "source": [
    "# Define and compute the necessary data\n",
    "ones = np.ones((10, 1))\n",
    "Rf = 0\n",
    "\n",
    "# Getting the daily returns and computing their mean and covariance matrix (annualised)\n",
    "ret = pd.DataFrame(prices.pct_change())\n",
    "\n",
    "mu = (ret.iloc[-60:]*252).mean()\n",
    "sigma = (ret.iloc[-60:]*252).cov()\n",
    "\n",
    "# Invert of the covariance matrix\n",
    "sigmainv = np.linalg.inv(sigma)"
   ]
  },
  {
   "cell_type": "markdown",
   "id": "c90ee0a1",
   "metadata": {},
   "source": [
    "We define two functions that we will use later to get the weights of the mean-variance portfolio with a risk-free asset and of the global-minimum-variance portfolio."
   ]
  },
  {
   "cell_type": "code",
   "execution_count": 4,
   "id": "ffcf1850",
   "metadata": {},
   "outputs": [],
   "source": [
    "def solutionWithRf(mu_targ, Rf, sigma, sigmainv):\n",
    "    term1Numerator = (mu_targ - Rf)\n",
    "    #term1Denominator = (mu - Rf*ones).T @ Vinverse @ (mu - Rf*ones)\n",
    "    term1Denominator = (mu - Rf).T @ sigmainv @ (mu - Rf)\n",
    "    term1 = term1Numerator/term1Denominator\n",
    "    #term2 = sigmainv @ (mu - Rf*ones)\n",
    "    term2 = sigmainv @ (mu - Rf)\n",
    "    weightsWithRf = term1 * term2\n",
    "    portfolioVolatilityWithRf = np.sqrt(weightsWithRf.T @ sigma @\n",
    "    weightsWithRf)\n",
    "    \n",
    "    return weightsWithRf"
   ]
  },
  {
   "cell_type": "code",
   "execution_count": 5,
   "id": "508ebea3",
   "metadata": {},
   "outputs": [],
   "source": [
    "def gmv(sigmainv):\n",
    "    num = sigmainv @ ones\n",
    "    denom = ones.T @ sigmainv @ ones\n",
    "    weights = num/denom\n",
    "    np.reshape(weights,(10,1))\n",
    "    return weights"
   ]
  },
  {
   "cell_type": "code",
   "execution_count": 10,
   "id": "c82b93be",
   "metadata": {},
   "outputs": [
    {
     "name": "stdout",
     "output_type": "stream",
     "text": [
      "The mean-variance portfolio weights are: [ -7.44374955  -0.46524022   0.45386609  -0.12068001   3.4012277\n",
      " -14.66679945   3.95228914  24.95527003   5.47785361  -7.3073937 ]\n",
      "The global-minimum variance portfolio weights are: [[ 0.06795495  0.05695817  0.27152463  0.40017181 -0.0133539  -0.0873764\n",
      "  -0.1896253   0.43319369 -0.20197398  0.26252631]]\n"
     ]
    }
   ],
   "source": [
    "meanvar_weights60 = solutionWithRf(mu_targ, Rf, sigma, sigmainv)\n",
    "gmv_weights60 = gmv(sigmainv)\n",
    "\n",
    "print('The mean-variance portfolio weights are:',meanvar_weights60)\n",
    "print('The global-minimum variance portfolio weights are:',gmv_weights60.T )"
   ]
  },
  {
   "cell_type": "markdown",
   "id": "10a6615f",
   "metadata": {},
   "source": [
    "# Section 2\n",
    "\n",
    "We initialise the matrices that will contain the weights for the two strategies at all times.<br>\n",
    "We loop through the dates, and at each date compute the weights for the two strategies based on the previous 60 days of daily returns.<br>\n",
    "We arbitrarily chose a mu-targ at 0.1."
   ]
  },
  {
   "cell_type": "code",
   "execution_count": 19,
   "id": "41f4b009",
   "metadata": {
    "scrolled": true
   },
   "outputs": [],
   "source": [
    "weights_meanvar = np.zeros((len(ret)-60,10))\n",
    "weights_gmv = np.zeros((len(ret)-60,10))\n",
    "Rf = 0\n",
    "mu_targ = 0.3\n",
    "\n",
    "for i in range(len(ret)-60-1):\n",
    "    periodret = ret.iloc[i:i+60]\n",
    "    mu = periodret.mean()\n",
    "    sigma = periodret.cov()\n",
    "    sigmainv = np.linalg.inv(sigma)\n",
    "     \n",
    "    weights_meanvar[i,:] = solutionWithRf(mu_targ, Rf, sigma, sigmainv)\n",
    "    \n",
    "    weights_gmv[i:i+1,:] = gmv(sigmainv).T  #i:i+1 not get a shape of (10,1) and not (10,)\n",
    "    "
   ]
  },
  {
   "cell_type": "markdown",
   "id": "bef480fd",
   "metadata": {},
   "source": [
    "# Section 3\n",
    "\n",
    "We compute the out-of-sample returns for both strategy at each date t by multiplying the weights obtained from the stock returns from date t-60 to date t-1 with the stock returns of date t."
   ]
  },
  {
   "cell_type": "code",
   "execution_count": 20,
   "id": "b92df709",
   "metadata": {},
   "outputs": [],
   "source": [
    "# Mean-variance portfolio\n",
    "ret_meanvar = np.dot(weights_meanvar,(ret.iloc[61:].T))\n",
    "ret_meanvar = np.sum(ret_meanvar,0)\n",
    "\n",
    "# Global minimum variance\n",
    "ret_gmv = np.dot(weights_gmv,(ret.iloc[61:].T))\n",
    "ret_gmv = np.sum(ret_gmv,0)"
   ]
  },
  {
   "cell_type": "markdown",
   "id": "d9735d3a",
   "metadata": {},
   "source": [
    "# Section 4\n",
    "\n",
    "We compute both Sharpe returns on annualised data. <br>\n",
    "The mean-variance portfolio has a higher Sharpe ratio."
   ]
  },
  {
   "cell_type": "code",
   "execution_count": 21,
   "id": "3d8deac2",
   "metadata": {},
   "outputs": [
    {
     "name": "stdout",
     "output_type": "stream",
     "text": [
      "The Sharpe ratio for the mean-variance portfolio is: 0.7459689311427389 \n",
      "\n",
      "The Sharpe ratio for the mean-variance portfolio is: 0.711583135223626\n"
     ]
    }
   ],
   "source": [
    "Sharpe_meanvar = np.mean(ret_meanvar)*np.sqrt(252)/(np.std(ret_meanvar))\n",
    "Sharpe_gmv = np.mean(ret_gmv)*np.sqrt(252)/(np.std(ret_gmv))\n",
    "print('The Sharpe ratio for the mean-variance portfolio is:',Sharpe_meanvar,'\\n')\n",
    "print('The Sharpe ratio for the mean-variance portfolio is:',Sharpe_gmv)"
   ]
  },
  {
   "cell_type": "code",
   "execution_count": null,
   "id": "2610e877",
   "metadata": {},
   "outputs": [],
   "source": []
  }
 ],
 "metadata": {
  "kernelspec": {
   "display_name": "Python 3 (ipykernel)",
   "language": "python",
   "name": "python3"
  },
  "language_info": {
   "codemirror_mode": {
    "name": "ipython",
    "version": 3
   },
   "file_extension": ".py",
   "mimetype": "text/x-python",
   "name": "python",
   "nbconvert_exporter": "python",
   "pygments_lexer": "ipython3",
   "version": "3.8.18"
  }
 },
 "nbformat": 4,
 "nbformat_minor": 5
}
