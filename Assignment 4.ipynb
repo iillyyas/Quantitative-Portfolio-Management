{
 "cells": [
  {
   "cell_type": "markdown",
   "id": "6d62dc2f",
   "metadata": {},
   "source": [
    "# Section 0\n",
    "\n",
    "QPM: Assignment 4\n",
    "\n",
    "DENG Yunyun <br>\n",
    "LI Jiaxin <br>\n",
    "SBAI Ilyas <br>\n",
    "ZHOU Zhichen <br>\n",
    "\n",
    "Note: NA"
   ]
  },
  {
   "cell_type": "markdown",
   "id": "4057adb3",
   "metadata": {},
   "source": [
    "# Initial step to prepare the data (4.0)\n",
    "We simply replicate the data retrieving process from last assignment and store the dataframes into sql database"
   ]
  },
  {
   "cell_type": "code",
   "execution_count": 1,
   "id": "56b11637",
   "metadata": {
    "scrolled": true
   },
   "outputs": [
    {
     "name": "stderr",
     "output_type": "stream",
     "text": [
      "\n",
      "2 Failed downloads:\n",
      "['KVUE', 'VLTO']: Exception(\"%ticker%: Data doesn't exist for startDate = 946702800, endDate = 1672462800\")\n"
     ]
    },
    {
     "data": {
      "text/plain": [
       "5787"
      ]
     },
     "execution_count": 1,
     "metadata": {},
     "output_type": "execute_result"
    }
   ],
   "source": [
    "import pandas as pd\n",
    "import numpy as np\n",
    "import yfinance as yf\n",
    "import sqlite3\n",
    "\n",
    "# Date range\n",
    "start_date = \"2000-01-01\"\n",
    "end_date = \"2022-12-31\"\n",
    "\n",
    "# We retrieve the list of tickers of the S&P500 from Wikipedia\n",
    "URL = 'https://en.wikipedia.org/wiki/List_of_S%26P_500_companies'\n",
    "tic = (pd.read_html(URL)[0]['Symbol'].str.replace('.', '-', regex=True) .unique().tolist())\n",
    "\n",
    "# Importing the  data using the download function from the yf package\n",
    "data = (yf.download(tickers=tic,\n",
    "                    start=start_date,\n",
    "                    end=end_date,\n",
    "                   progress=False)\n",
    "        .melt(ignore_index=False, \n",
    "              var_name=[\"variable\", \"symbol\"])\n",
    "        .reset_index()\n",
    "        .pivot(index=[\"Date\", \"symbol\"], \n",
    "               columns=\"variable\", \n",
    "               values=\"value\")\n",
    "        .reset_index()\n",
    "        .rename(columns = {\"Date\": \"date\",\n",
    "                   \"Open\": \"open\",\n",
    "                   \"High\": \"high\",\n",
    "                   \"Low\": \"low\",\n",
    "                   \"Close\": \"close\",\n",
    "                   \"Adj Close\": \"adjusted\",\n",
    "                   \"Volume\": \"volume\"\n",
    "                  }))\n",
    "\n",
    "# extract the price data\n",
    "tic_price = (data.get([\"symbol\", \"date\", \"adjusted\"]).pivot(index = 'date', columns='symbol', values = 'adjusted')\n",
    "             .dropna(axis=1, how='all'))\n",
    "tic_price = tic_price.loc[:, (tic_price.isna().sum(axis=0) <= 100)].reset_index()\n",
    "\n",
    "#save the data in a database for future reference\n",
    "SnP500 = sqlite3.connect(database=\"/Users/lijiaxin/Downloads/M2/S2/QPM/snp500.sqlite\")\n",
    "\n",
    "(data.to_sql(name=\"SnP500_daily\", con=SnP500, if_exists=\"replace\",index = False))\n",
    "\n",
    "(tic_price.to_sql(name='SnP500_daily_adjusted_price', con=SnP500, if_exists=\"replace\",index = False))"
   ]
  },
  {
   "cell_type": "markdown",
   "id": "bb605b94",
   "metadata": {},
   "source": [
    "Access data stored in the database"
   ]
  },
  {
   "cell_type": "code",
   "execution_count": 2,
   "id": "de66daa1",
   "metadata": {
    "scrolled": true
   },
   "outputs": [
    {
     "data": {
      "text/html": [
       "<div>\n",
       "<style scoped>\n",
       "    .dataframe tbody tr th:only-of-type {\n",
       "        vertical-align: middle;\n",
       "    }\n",
       "\n",
       "    .dataframe tbody tr th {\n",
       "        vertical-align: top;\n",
       "    }\n",
       "\n",
       "    .dataframe thead th {\n",
       "        text-align: right;\n",
       "    }\n",
       "</style>\n",
       "<table border=\"1\" class=\"dataframe\">\n",
       "  <thead>\n",
       "    <tr style=\"text-align: right;\">\n",
       "      <th></th>\n",
       "      <th>MMM</th>\n",
       "      <th>AOS</th>\n",
       "      <th>ABT</th>\n",
       "      <th>ADM</th>\n",
       "      <th>ADBE</th>\n",
       "      <th>ADP</th>\n",
       "      <th>AES</th>\n",
       "      <th>AFL</th>\n",
       "      <th>A</th>\n",
       "      <th>AKAM</th>\n",
       "    </tr>\n",
       "    <tr>\n",
       "      <th>date</th>\n",
       "      <th></th>\n",
       "      <th></th>\n",
       "      <th></th>\n",
       "      <th></th>\n",
       "      <th></th>\n",
       "      <th></th>\n",
       "      <th></th>\n",
       "      <th></th>\n",
       "      <th></th>\n",
       "      <th></th>\n",
       "    </tr>\n",
       "  </thead>\n",
       "  <tbody>\n",
       "    <tr>\n",
       "      <th>2000-01-31</th>\n",
       "      <td>-0.007947</td>\n",
       "      <td>-0.084087</td>\n",
       "      <td>-0.065070</td>\n",
       "      <td>-0.020834</td>\n",
       "      <td>-0.160153</td>\n",
       "      <td>-0.087740</td>\n",
       "      <td>0.105172</td>\n",
       "      <td>-0.029330</td>\n",
       "      <td>-0.080729</td>\n",
       "      <td>-0.224514</td>\n",
       "    </tr>\n",
       "    <tr>\n",
       "      <th>2000-02-29</th>\n",
       "      <td>-0.051976</td>\n",
       "      <td>-0.126583</td>\n",
       "      <td>0.013437</td>\n",
       "      <td>-0.140034</td>\n",
       "      <td>0.852440</td>\n",
       "      <td>-0.081687</td>\n",
       "      <td>0.046022</td>\n",
       "      <td>-0.156654</td>\n",
       "      <td>0.569404</td>\n",
       "      <td>0.048670</td>\n",
       "    </tr>\n",
       "    <tr>\n",
       "      <th>2000-03-31</th>\n",
       "      <td>0.004252</td>\n",
       "      <td>0.043479</td>\n",
       "      <td>0.066287</td>\n",
       "      <td>0.024845</td>\n",
       "      <td>0.091567</td>\n",
       "      <td>0.109849</td>\n",
       "      <td>-0.060403</td>\n",
       "      <td>0.246154</td>\n",
       "      <td>0.001204</td>\n",
       "      <td>-0.384450</td>\n",
       "    </tr>\n",
       "    <tr>\n",
       "      <th>2000-04-30</th>\n",
       "      <td>-0.021877</td>\n",
       "      <td>0.149574</td>\n",
       "      <td>0.097843</td>\n",
       "      <td>-0.036364</td>\n",
       "      <td>0.086468</td>\n",
       "      <td>0.115285</td>\n",
       "      <td>0.142063</td>\n",
       "      <td>0.071331</td>\n",
       "      <td>-0.147836</td>\n",
       "      <td>-0.385154</td>\n",
       "    </tr>\n",
       "    <tr>\n",
       "      <th>2000-05-31</th>\n",
       "      <td>-0.003685</td>\n",
       "      <td>0.021277</td>\n",
       "      <td>0.058537</td>\n",
       "      <td>0.207109</td>\n",
       "      <td>-0.069251</td>\n",
       "      <td>0.022068</td>\n",
       "      <td>-0.029882</td>\n",
       "      <td>0.060746</td>\n",
       "      <td>-0.169253</td>\n",
       "      <td>-0.324905</td>\n",
       "    </tr>\n",
       "  </tbody>\n",
       "</table>\n",
       "</div>"
      ],
      "text/plain": [
       "                 MMM       AOS       ABT       ADM      ADBE       ADP  \\\n",
       "date                                                                     \n",
       "2000-01-31 -0.007947 -0.084087 -0.065070 -0.020834 -0.160153 -0.087740   \n",
       "2000-02-29 -0.051976 -0.126583  0.013437 -0.140034  0.852440 -0.081687   \n",
       "2000-03-31  0.004252  0.043479  0.066287  0.024845  0.091567  0.109849   \n",
       "2000-04-30 -0.021877  0.149574  0.097843 -0.036364  0.086468  0.115285   \n",
       "2000-05-31 -0.003685  0.021277  0.058537  0.207109 -0.069251  0.022068   \n",
       "\n",
       "                 AES       AFL         A      AKAM  \n",
       "date                                                \n",
       "2000-01-31  0.105172 -0.029330 -0.080729 -0.224514  \n",
       "2000-02-29  0.046022 -0.156654  0.569404  0.048670  \n",
       "2000-03-31 -0.060403  0.246154  0.001204 -0.384450  \n",
       "2000-04-30  0.142063  0.071331 -0.147836 -0.385154  \n",
       "2000-05-31 -0.029882  0.060746 -0.169253 -0.324905  "
      ]
     },
     "execution_count": 2,
     "metadata": {},
     "output_type": "execute_result"
    }
   ],
   "source": [
    "import pandas as pd\n",
    "import numpy as np\n",
    "import yfinance as yf\n",
    "import sqlite3\n",
    "\n",
    "#Establish the connection to the SQLite database\n",
    "SnP500 = sqlite3.connect(database=\"/Users/lijiaxin/Downloads/M2/S2/QPM/snp500.sqlite\")\n",
    "\n",
    "#Execute the query to fetch the data\n",
    "stock_price = (pd.read_sql_query(\n",
    "        sql=\"SELECT * FROM SnP500_daily_adjusted_price\",\n",
    "        con=SnP500))\n",
    "\n",
    "#Add date time index to the data\n",
    "stock_price['date'] = pd.to_datetime(stock_price['date'])\n",
    "stock_price = stock_price.set_index('date')\n",
    "\n",
    "#Select the 10 companies\n",
    "com_list = ['MMM','AOS','ABT','ADM','ADBE','ADP','AES','AFL','A','AKAM']\n",
    "pt = stock_price.loc[:, com_list]\n",
    "\n",
    "#Compute the monthly returns\n",
    "ret_daily=pt.pct_change().dropna(axis=0)\n",
    "ret_monthly = ret_daily.resample('1M').agg(lambda x: (1 + x).prod() - 1)\n",
    "ret_monthly.head()"
   ]
  },
  {
   "cell_type": "code",
   "execution_count": 3,
   "id": "93da0def",
   "metadata": {},
   "outputs": [
    {
     "data": {
      "text/plain": [
       "276"
      ]
     },
     "execution_count": 3,
     "metadata": {},
     "output_type": "execute_result"
    }
   ],
   "source": [
    "#save the daily price for ten companies in the database\n",
    "(pt.to_sql(name=\"TenCompanies_price_daily\", con=SnP500, if_exists=\"replace\",index = False))\n",
    "\n",
    "#save the monthly return for ten companies in the database\n",
    "(ret_monthly.to_sql(name=\"TenCompanies_ret_monthly\", con=SnP500, if_exists=\"replace\",index = False))"
   ]
  },
  {
   "cell_type": "markdown",
   "id": "18094e53",
   "metadata": {},
   "source": [
    "# Section 1"
   ]
  },
  {
   "cell_type": "markdown",
   "id": "2370fc4a",
   "metadata": {},
   "source": [
    "We first define the necessary data: the estimation window ```T_est```, the vector of monthly mean returns ```mu```, the variance-covariance matrix of annualised returns ```V``` and its inverse ```Vinverse```. <br>\n",
    "We use the data from the first 60 days."
   ]
  },
  {
   "cell_type": "code",
   "execution_count": 4,
   "id": "edbbc4ed",
   "metadata": {},
   "outputs": [],
   "source": [
    "#Set the first 60 months to be the estimation window\n",
    "T_est = 60\n",
    "sp = ret_monthly.iloc[0:T_est,:]\n",
    "\n",
    "#Define a column vector of ones\n",
    "ones = np.ones((10,1))\n",
    "\n",
    "#Column vector of monthly mean returns\n",
    "mu = sp.mean().to_numpy().reshape(-1,1)\n",
    "\n",
    "#Variance-covariance matrix\n",
    "V = sp.cov().to_numpy()\n",
    "\n",
    "#Define inverse of the variance-covariance matrix\n",
    "Vinverse = np.linalg.inv(V)"
   ]
  },
  {
   "cell_type": "markdown",
   "id": "45c644c9",
   "metadata": {},
   "source": [
    "We then define the function to calculate the optimal weights for mean-variance portfolio where risk free asset is available."
   ]
  },
  {
   "cell_type": "code",
   "execution_count": 5,
   "id": "dfd5facc",
   "metadata": {},
   "outputs": [],
   "source": [
    "#Define solution function when risk-free asset is available\n",
    "def sol_MVP (mu, mu_targ, Rf, Vinverse):\n",
    "    term1Numerator = (mu_targ - Rf)\n",
    "    term1Denominator = (mu - Rf*ones).T@Vinverse@(mu-Rf*ones)\n",
    "    term1 = term1Numerator/term1Denominator\n",
    "    term2 = Vinverse@(mu - Rf*ones)\n",
    "    weightsWRf = term1*term2\n",
    "    portVol = np.sqrt(weightsWRf.T@V@weightsWRf)\n",
    "    \n",
    "    return weightsWRf, portVol"
   ]
  },
  {
   "cell_type": "code",
   "execution_count": 6,
   "id": "3b413a02",
   "metadata": {
    "scrolled": true
   },
   "outputs": [
    {
     "name": "stdout",
     "output_type": "stream",
     "text": [
      "Optimal weights for mean variance portfolio are:  \n",
      " [[ 1.43846207]\n",
      " [ 0.66512242]\n",
      " [ 0.92204306]\n",
      " [ 1.71612904]\n",
      " [ 1.16181618]\n",
      " [-1.2897939 ]\n",
      " [ 0.23373574]\n",
      " [ 0.14405685]\n",
      " [-0.73955557]\n",
      " [-0.04498322]]\n",
      "Volatility of Optimal mean variance portfolio's return is:  0.24983198532787276\n"
     ]
    }
   ],
   "source": [
    "#Trial: set expected monthly return to be 10%\n",
    "\n",
    "w_MVP = sol_MVP(mu, 0.1, 0, Vinverse)[0]\n",
    "vol_MVP = sol_MVP(mu, 0.1, 0, Vinverse)[1]\n",
    "\n",
    "print('Optimal weights for mean variance portfolio are: ','\\n', w_MVP)\n",
    "print(\"Volatility of Optimal mean variance portfolio's return is: \", vol_MVP[0,0])"
   ]
  },
  {
   "cell_type": "markdown",
   "id": "1103813c",
   "metadata": {},
   "source": [
    "We also calculate the optimal weights for Global Minimum Variance Portfolio based on the following formula:\n",
    "\n",
    "$$\n",
    "w = \\frac{V^{-1}1_N}{1^{T}_{N}V^{-1}1_N}\n",
    "$$"
   ]
  },
  {
   "cell_type": "code",
   "execution_count": 7,
   "id": "067d027c",
   "metadata": {},
   "outputs": [
    {
     "name": "stdout",
     "output_type": "stream",
     "text": [
      "Optimal weights for global minimum variance portfolio are:  \n",
      " [[ 0.34792449]\n",
      " [ 0.10125196]\n",
      " [ 0.30909196]\n",
      " [ 0.04632376]\n",
      " [ 0.02444576]\n",
      " [ 0.08107936]\n",
      " [ 0.02619765]\n",
      " [ 0.07877339]\n",
      " [ 0.00909168]\n",
      " [-0.02418   ]]\n",
      "Volatility of Optimal global minimum variance portfolio's return is:  0.04204581520058148\n"
     ]
    }
   ],
   "source": [
    "w_GMV = (Vinverse@ones)/(ones.T@Vinverse@ones)\n",
    "vol_GMV = np.sqrt(w_GMV.T@V@w_GMV)\n",
    "\n",
    "print('Optimal weights for global minimum variance portfolio are: ','\\n', w_GMV)\n",
    "print(\"Volatility of Optimal global minimum variance portfolio's return is: \", vol_GMV[0,0])"
   ]
  },
  {
   "cell_type": "markdown",
   "id": "55dc5896",
   "metadata": {},
   "source": [
    "# Section 2"
   ]
  },
  {
   "cell_type": "markdown",
   "id": "747d85ba",
   "metadata": {},
   "source": [
    "We use the rolling window $T^{est}=60$ to estimate the time series of optimal weights for both strategies by looping through the dates."
   ]
  },
  {
   "cell_type": "code",
   "execution_count": 8,
   "id": "b6fb7797",
   "metadata": {},
   "outputs": [],
   "source": [
    "#set the target return for mean variance portfolio\n",
    "mu_targ = 0.1\n",
    "\n",
    "#create empty list to store the weights\n",
    "w_MVP_list = []\n",
    "w_GMV_list = []\n",
    "\n",
    "#loop through the dates,\n",
    "#at each date compute the weights for the two strategies based on the previous 60 days of monthly returns\n",
    "\n",
    "for i in range (0,len(ret_monthly)-60):\n",
    "    #calculate the metrics for each window\n",
    "    sp_est = ret_monthly.iloc[i:T_est+i,:]\n",
    "    mu_est = sp_est.mean().to_numpy().reshape(-1,1)\n",
    "    V_est = sp_est.cov().to_numpy()\n",
    "    Vinverse_est = np.linalg.inv(V_est)\n",
    "    \n",
    "    #calculate the weights \n",
    "    w_MVP_est = sol_MVP(mu_est, mu_targ,0, Vinverse_est)[0]    \n",
    "    w_GMV_est = (Vinverse_est@ones)/(ones.T@Vinverse_est@ones)\n",
    "    \n",
    "    w_MVP_list.append(w_MVP_est)\n",
    "    w_GMV_list.append(w_GMV_est)\n",
    "\n",
    "#create the time series of weights by adding up the datetime index\n",
    "w_MVP_ts = pd.Series(w_MVP_list, index=ret_monthly.index[60:276])\n",
    "w_GMV_ts = pd.Series(w_GMV_list, index=ret_monthly.index[60:276])"
   ]
  },
  {
   "cell_type": "code",
   "execution_count": 9,
   "id": "1c8e08a4",
   "metadata": {},
   "outputs": [
    {
     "data": {
      "text/plain": [
       "date\n",
       "2005-01-31    [[0.3479244923649019], [0.10125195885207955], ...\n",
       "2005-02-28    [[0.33732312912137663], [0.10545064711129269],...\n",
       "2005-03-31    [[0.34041862290756114], [0.1154878157420604], ...\n",
       "2005-04-30    [[0.30136794407810624], [0.1121930748474487], ...\n",
       "2005-05-31    [[0.27107813076327786], [0.12930849419927473],...\n",
       "                                    ...                        \n",
       "2022-08-31    [[0.0033973834414433254], [-0.1826579171493633...\n",
       "2022-09-30    [[-0.011828791063904814], [-0.1881856072654844...\n",
       "2022-10-31    [[-0.014524870452502062], [-0.2048195381234758...\n",
       "2022-11-30    [[-0.03153751387378908], [-0.22141978203170257...\n",
       "2022-12-31    [[0.0032154622580793696], [-0.2437350386072495...\n",
       "Freq: M, Length: 216, dtype: object"
      ]
     },
     "execution_count": 9,
     "metadata": {},
     "output_type": "execute_result"
    }
   ],
   "source": [
    "w_GMV_ts"
   ]
  },
  {
   "cell_type": "code",
   "execution_count": 10,
   "id": "099d0102",
   "metadata": {},
   "outputs": [
    {
     "data": {
      "text/plain": [
       "date\n",
       "2005-01-31    [[1.4384620712492464], [0.6651224205729019], [...\n",
       "2005-02-28    [[1.2668292589411978], [0.6617258104500232], [...\n",
       "2005-03-31    [[1.4599118678358225], [0.7390817745019078], [...\n",
       "2005-04-30    [[1.618074890876644], [0.7584874860612336], [0...\n",
       "2005-05-31    [[1.8555522577380195], [0.8772364741435219], [...\n",
       "                                    ...                        \n",
       "2022-08-31    [[-3.1170743614007512], [-0.6386374037178731],...\n",
       "2022-09-30    [[-2.9245416362594834], [-0.6533473803700997],...\n",
       "2022-10-31    [[-3.108338002419104], [-0.8175963501019322], ...\n",
       "2022-11-30    [[-3.1373097961008924], [-0.5486031771302647],...\n",
       "2022-12-31    [[-2.8909639993682648], [-0.5943076894383263],...\n",
       "Freq: M, Length: 216, dtype: object"
      ]
     },
     "execution_count": 10,
     "metadata": {},
     "output_type": "execute_result"
    }
   ],
   "source": [
    "w_MVP_ts"
   ]
  },
  {
   "cell_type": "markdown",
   "id": "c4040382",
   "metadata": {},
   "source": [
    "# Section 3"
   ]
  },
  {
   "cell_type": "markdown",
   "id": "5ea2f8d9",
   "metadata": {},
   "source": [
    "We calculate the out-of-sample returns for both strategies at time $t+1$ by multiplying the weights estimated from the information available until time $t$ by the stock returns at time $t+1$."
   ]
  },
  {
   "cell_type": "code",
   "execution_count": 11,
   "id": "788db04a",
   "metadata": {},
   "outputs": [],
   "source": [
    "#create an empty list\n",
    "ret_MVP_list = []\n",
    "ret_GMV_list = []\n",
    "\n",
    "for i in range (0,len(ret_monthly)-60):\n",
    "    ret_MVP_est = (ret_monthly.iloc[T_est+i,:].to_numpy())@w_MVP_ts[i]\n",
    "    ret_MVP_list.append(ret_MVP_est)\n",
    "    \n",
    "    ret_GMV_est = (ret_monthly.iloc[T_est+i,:].to_numpy())@w_GMV_ts[i]\n",
    "    ret_GMV_list.append(ret_GMV_est)\n",
    "    \n",
    "#create the time series of monthly returns by adding up the datetime index \n",
    "ret_MVP_ts = pd.Series(ret_MVP_list, index=ret_monthly.index[60:])\n",
    "ret_GMV_ts = pd.Series(ret_GMV_list, index=ret_monthly.index[60:])"
   ]
  },
  {
   "cell_type": "code",
   "execution_count": 12,
   "id": "0fce64c1",
   "metadata": {},
   "outputs": [
    {
     "data": {
      "text/plain": [
       "date\n",
       "2005-01-31     [0.08224024555581705]\n",
       "2005-02-28     [0.06518040562571623]\n",
       "2005-03-31     [0.23660342758555863]\n",
       "2005-04-30     [-0.6353688797741495]\n",
       "2005-05-31      [0.1538346598381014]\n",
       "                       ...          \n",
       "2022-08-31     [0.25053298376522015]\n",
       "2022-09-30    [-0.08696599471892744]\n",
       "2022-10-31     [0.06626802520457337]\n",
       "2022-11-30     [0.34837822700920185]\n",
       "2022-12-31    [-0.01821260167862898]\n",
       "Freq: M, Length: 216, dtype: object"
      ]
     },
     "execution_count": 12,
     "metadata": {},
     "output_type": "execute_result"
    }
   ],
   "source": [
    "ret_MVP_ts"
   ]
  },
  {
   "cell_type": "markdown",
   "id": "c98e40fc",
   "metadata": {},
   "source": [
    "# Section 4"
   ]
  },
  {
   "cell_type": "code",
   "execution_count": 13,
   "id": "80545ec8",
   "metadata": {},
   "outputs": [
    {
     "name": "stdout",
     "output_type": "stream",
     "text": [
      "The Sharpe ratio for the mean-variance portfolio is: 0.4914436024627835 \n",
      "\n",
      "The Sharpe ratio for the global minimum variance portfolio is: 0.8485161373122051 \n",
      "\n",
      "The global minimum variance portfolio has higher sharpe ratio.\n"
     ]
    }
   ],
   "source": [
    "SR_MVP = np.sqrt(12)*np.mean(ret_MVP_ts) / np.std(ret_MVP_ts)\n",
    "SR_GMV = np.sqrt(12)*np.mean(ret_GMV_ts) / np.std(ret_GMV_ts)\n",
    "\n",
    "print('The Sharpe ratio for the mean-variance portfolio is:',SR_MVP[0],'\\n')\n",
    "print('The Sharpe ratio for the global minimum variance portfolio is:',SR_GMV[0], '\\n')\n",
    "\n",
    "if SR_MVP > SR_GMV:\n",
    "    print('The mean-variance portfolio has higher sharpe ratio.')\n",
    "else: \n",
    "    print('The global minimum variance portfolio has higher sharpe ratio.')"
   ]
  }
 ],
 "metadata": {
  "kernelspec": {
   "display_name": "Python 3 (ipykernel)",
   "language": "python",
   "name": "python3"
  },
  "language_info": {
   "codemirror_mode": {
    "name": "ipython",
    "version": 3
   },
   "file_extension": ".py",
   "mimetype": "text/x-python",
   "name": "python",
   "nbconvert_exporter": "python",
   "pygments_lexer": "ipython3",
   "version": "3.11.4"
  }
 },
 "nbformat": 4,
 "nbformat_minor": 5
}
