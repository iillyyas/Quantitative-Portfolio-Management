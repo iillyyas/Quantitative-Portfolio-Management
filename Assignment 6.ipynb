{
 "cells": [
  {
   "cell_type": "markdown",
   "id": "6d62dc2f",
   "metadata": {},
   "source": [
    "# Section 0\n",
    "\n",
    "QPM: Assignment 6\n",
    "\n",
    "DENG Yunyun <br>\n",
    "LI Jiaxin <br>\n",
    "SBAI Ilyas <br>\n",
    "ZHOU Zhichen <br>\n",
    "\n",
    "Note: NA"
   ]
  },
  {
   "cell_type": "markdown",
   "id": "b7ffbcb4",
   "metadata": {},
   "source": [
    "# Section 0.bis\n",
    "\n",
    "We retrieve the price data for the 6 stocks from January 2015 until December 2022 using the library yfinance. We transform the daily data into monthly data and store it in the dataframe ```prices```"
   ]
  },
  {
   "cell_type": "code",
   "execution_count": 1,
   "id": "1b265865",
   "metadata": {
    "scrolled": true
   },
   "outputs": [
    {
     "name": "stdout",
     "output_type": "stream",
     "text": [
      "[*********************100%***********************]  6 of 6 completed\n"
     ]
    },
    {
     "data": {
      "text/html": [
       "<div>\n",
       "<style scoped>\n",
       "    .dataframe tbody tr th:only-of-type {\n",
       "        vertical-align: middle;\n",
       "    }\n",
       "\n",
       "    .dataframe tbody tr th {\n",
       "        vertical-align: top;\n",
       "    }\n",
       "\n",
       "    .dataframe thead th {\n",
       "        text-align: right;\n",
       "    }\n",
       "</style>\n",
       "<table border=\"1\" class=\"dataframe\">\n",
       "  <thead>\n",
       "    <tr style=\"text-align: right;\">\n",
       "      <th></th>\n",
       "      <th>AAPL</th>\n",
       "      <th>AMZN</th>\n",
       "      <th>META</th>\n",
       "      <th>MSFT</th>\n",
       "      <th>NVDA</th>\n",
       "      <th>TSLA</th>\n",
       "    </tr>\n",
       "    <tr>\n",
       "      <th>date</th>\n",
       "      <th></th>\n",
       "      <th></th>\n",
       "      <th></th>\n",
       "      <th></th>\n",
       "      <th></th>\n",
       "      <th></th>\n",
       "    </tr>\n",
       "  </thead>\n",
       "  <tbody>\n",
       "    <tr>\n",
       "      <th>2015-01-31</th>\n",
       "      <td>0.069169</td>\n",
       "      <td>0.139006</td>\n",
       "      <td>-0.032913</td>\n",
       "      <td>-0.146198</td>\n",
       "      <td>-0.047301</td>\n",
       "      <td>-0.074329</td>\n",
       "    </tr>\n",
       "    <tr>\n",
       "      <th>2015-02-28</th>\n",
       "      <td>0.096016</td>\n",
       "      <td>0.069799</td>\n",
       "      <td>0.039520</td>\n",
       "      <td>0.089036</td>\n",
       "      <td>0.142699</td>\n",
       "      <td>-0.001278</td>\n",
       "    </tr>\n",
       "    <tr>\n",
       "      <th>2015-03-31</th>\n",
       "      <td>-0.031874</td>\n",
       "      <td>-0.021430</td>\n",
       "      <td>0.040331</td>\n",
       "      <td>-0.075530</td>\n",
       "      <td>-0.052582</td>\n",
       "      <td>-0.074350</td>\n",
       "    </tr>\n",
       "    <tr>\n",
       "      <th>2015-04-30</th>\n",
       "      <td>0.005770</td>\n",
       "      <td>0.125321</td>\n",
       "      <td>-0.042866</td>\n",
       "      <td>0.179201</td>\n",
       "      <td>0.058909</td>\n",
       "      <td>0.180227</td>\n",
       "    </tr>\n",
       "    <tr>\n",
       "      <th>2015-05-31</th>\n",
       "      <td>0.044341</td>\n",
       "      <td>0.017509</td>\n",
       "      <td>0.005318</td>\n",
       "      <td>-0.030804</td>\n",
       "      <td>0.001460</td>\n",
       "      <td>0.103900</td>\n",
       "    </tr>\n",
       "  </tbody>\n",
       "</table>\n",
       "</div>"
      ],
      "text/plain": [
       "                AAPL      AMZN      META      MSFT      NVDA      TSLA\n",
       "date                                                                  \n",
       "2015-01-31  0.069169  0.139006 -0.032913 -0.146198 -0.047301 -0.074329\n",
       "2015-02-28  0.096016  0.069799  0.039520  0.089036  0.142699 -0.001278\n",
       "2015-03-31 -0.031874 -0.021430  0.040331 -0.075530 -0.052582 -0.074350\n",
       "2015-04-30  0.005770  0.125321 -0.042866  0.179201  0.058909  0.180227\n",
       "2015-05-31  0.044341  0.017509  0.005318 -0.030804  0.001460  0.103900"
      ]
     },
     "execution_count": 1,
     "metadata": {},
     "output_type": "execute_result"
    }
   ],
   "source": [
    "import pandas as pd\n",
    "import numpy as np\n",
    "import yfinance as yf\n",
    "\n",
    "# Date range\n",
    "start_date = \"2015-01-01\"\n",
    "end_date = \"2022-12-31\"\n",
    "\n",
    "# Tickers' name\n",
    "tic = \"AAPL MSFT AMZN NVDA TSLA META\"\n",
    "\n",
    "# Importing the stock data using the download function from the yf package\n",
    "prices = (yf.download(tickers=tic,\n",
    "start=start_date,\n",
    "end=end_date)\n",
    ".reset_index()\n",
    ".rename(columns = {\"Date\": \"date\",\n",
    "                   \"Open\": \"open\",\n",
    "\"High\": \"high\",\n",
    "\"Low\": \"low\",\n",
    "\"Close\": \"close\",\n",
    "\"Adj Close\": \"adjusted\",\n",
    "\"Volume\": \"volume\"\n",
    "})\n",
    ")\n",
    "\n",
    "# Keeping only the price data\n",
    "prices = prices.set_index('date').adjusted\n",
    "\n",
    "# Monthly returns\n",
    "log_returns = np.log(prices).diff()\n",
    "ret = log_returns.resample('M').sum()\n",
    "ret.head()"
   ]
  },
  {
   "cell_type": "markdown",
   "id": "7b310876",
   "metadata": {},
   "source": [
    "Defining the market weights following the Investopedia article and computing the excess returns, which are simply the sample mean of the monthly returns."
   ]
  },
  {
   "cell_type": "code",
   "execution_count": 2,
   "id": "1e348604",
   "metadata": {
    "scrolled": true
   },
   "outputs": [
    {
     "name": "stdout",
     "output_type": "stream",
     "text": [
      "Asset 1: 1.73%\n",
      "Asset 2: 1.77%\n",
      "Asset 3: 0.45%\n",
      "Asset 4: 1.84%\n",
      "Asset 5: 3.55%\n",
      "Asset 6: 2.22%\n"
     ]
    }
   ],
   "source": [
    "# Defining the market weights, following the order of our prices dataframe\n",
    "indx_wgt = np.array((0.071,0.0324,0.0184,0.0651,0.0284,0.0187))\n",
    "\n",
    "#Rescale the weights so that they sum to one\n",
    "indx_wgt = indx_wgt/(np.ones(6).T @ indx_wgt)\n",
    "\n",
    "# Excess returns are the mean of the returns\n",
    "exc_ret = ret.mean().to_numpy()\n",
    "\n",
    "# Displaying the excess returns, in percents\n",
    "for i, ex_ret in enumerate(exc_ret):\n",
    "    print(f\"Asset {i + 1}: {ex_ret*100:.2f}%\")"
   ]
  },
  {
   "cell_type": "markdown",
   "id": "95ea6ba8",
   "metadata": {},
   "source": [
    "# Section 1\n",
    "\n",
    "We first compute the market gamma that is defined as: <br>\n",
    "$$ \\gamma_{mkt}=\\frac{SR}{\\sigma_{mkt}} $$\n",
    "\n",
    "We first compute the returns of the market portfolio by multiplying the returns of each stock by its weight, for each date.\n",
    "We then compute the Sharpe ratio of this series of returns and store it in ```SR_mkt```. Note that since the returns have been annualised in the first step, we do not annualise the Sharpe ratio again."
   ]
  },
  {
   "cell_type": "code",
   "execution_count": 3,
   "id": "68396e96",
   "metadata": {},
   "outputs": [
    {
     "name": "stdout",
     "output_type": "stream",
     "text": [
      "The market gamma is: 3.808140595776307\n"
     ]
    }
   ],
   "source": [
    "# Returns of the market portfolio\n",
    "mkt_ret = np.array(ret) @ indx_wgt\n",
    "\n",
    "# Sharpe ratio of the market portfolio\n",
    "SR_mkt = np.mean(mkt_ret) / np.std(mkt_ret)\n",
    "\n",
    "# Market gamma\n",
    "gamma_mkt = SR_mkt / np.std(mkt_ret)\n",
    "print('The market gamma is:',gamma_mkt)"
   ]
  },
  {
   "cell_type": "markdown",
   "id": "61292530",
   "metadata": {},
   "source": [
    "We then compute the Markowitz portfolio weights using this market gamma: <br><br>\n",
    "$$ w_{Markowitz}={{1}\\over\\gamma_{mkt}}\\Sigma^{-1}\\mu_{sample} $$ "
   ]
  },
  {
   "cell_type": "code",
   "execution_count": 4,
   "id": "398f1c6a",
   "metadata": {},
   "outputs": [
    {
     "name": "stdout",
     "output_type": "stream",
     "text": [
      "Asset 1: 8.601\n",
      "Asset 2: 3.919\n",
      "Asset 3: -33.806\n",
      "Asset 4: 95.336\n",
      "Asset 5: 29.090\n",
      "Asset 6: 0.171\n"
     ]
    }
   ],
   "source": [
    "# Covariance matrix of the excess returns\n",
    "sigma =ret.cov().to_numpy()\n",
    "\n",
    "# Invert the covariance matrix\n",
    "sigma_inv = np.linalg.inv(sigma)\n",
    "\n",
    "# Compute the Markowitz weights\n",
    "wgts_Markowitz = (1 / gamma_mkt) * (sigma_inv @ exc_ret)\n",
    "\n",
    "# Displaying the results in percents\n",
    "for i, weight in enumerate(wgts_Markowitz):\n",
    "    print(f\"Asset {i + 1}: {weight*100:.3f}\")"
   ]
  },
  {
   "cell_type": "markdown",
   "id": "dd55c9d4",
   "metadata": {},
   "source": [
    "# Section 2\n",
    "We compute the CAPM-implied expected returns:\n",
    "$$ \\mu_{CAPM}=\\gamma_{mkt}\\Sigma w_{mkt} $$"
   ]
  },
  {
   "cell_type": "code",
   "execution_count": 5,
   "id": "3d8deac2",
   "metadata": {},
   "outputs": [
    {
     "name": "stdout",
     "output_type": "stream",
     "text": [
      "Asset 1: 1.95%\n",
      "Asset 2: 1.90%\n",
      "Asset 3: 1.49%\n",
      "Asset 4: 1.44%\n",
      "Asset 5: 2.80%\n",
      "Asset 6: 2.94%\n"
     ]
    }
   ],
   "source": [
    "# Computing the CAPM-implied expected returns\n",
    "mu_capm = gamma_mkt * (sigma @ indx_wgt)\n",
    "\n",
    "# Displaying the results, in percents\n",
    "for i, exp_ret in enumerate(mu_capm):\n",
    "    print(f\"Asset {i + 1}: {exp_ret*100:.2f}%\")"
   ]
  },
  {
   "cell_type": "markdown",
   "id": "d9735d3a",
   "metadata": {},
   "source": [
    "# Section 3\n",
    "\n",
    "We define the P matrix, the q vector and the omega matrix.\n",
    "Each line in the P matrix corresponds to a single view. Each column correspond to the assets, in the same order as our prices dataframe. A 1 indicate a positive view and a -1 a negative view. When a row contains both a +1 and a -1, it indicates a relative outperformance of the asset indicated by the +1. <br>\n",
    "The q vector contains the numbers corresponding to our views: the values of the absolute and relative outperformance.<br>\n",
    "The omega matrix is defined as:\n",
    "$$ \\Omega=P_{k}(\\tau\\Sigma)P_{k}^{T} $$\n",
    "where k = {1,2,3,4} is the row of the matrix P."
   ]
  },
  {
   "cell_type": "code",
   "execution_count": 6,
   "id": "7848c80a",
   "metadata": {},
   "outputs": [
    {
     "data": {
      "text/plain": [
       "array([[7.19796748e-05, 0.00000000e+00, 0.00000000e+00, 0.00000000e+00],\n",
       "       [0.00000000e+00, 4.24165854e-05, 0.00000000e+00, 0.00000000e+00],\n",
       "       [0.00000000e+00, 0.00000000e+00, 3.16522544e-04, 0.00000000e+00],\n",
       "       [0.00000000e+00, 0.00000000e+00, 0.00000000e+00, 2.94913613e-04]])"
      ]
     },
     "execution_count": 6,
     "metadata": {},
     "output_type": "execute_result"
    }
   ],
   "source": [
    "# P matrix that contains our views\n",
    "P = np.matrix([[1,0,0,0,0,0],[0,0,0,1,0,0],[0,0,0,0,1,-1],[0,0,1,0,0,-1]])\n",
    "\n",
    "# q vector that contains the values corresponding to our views\n",
    "q = np.array([0.1,0.05,0.02,0.01])\n",
    "\n",
    "# omega matrix which captures the uncertainty in the views\n",
    "tau_sigma = (1/len(ret)) * sigma\n",
    "omega = np.zeros((4,4))\n",
    "for i in range(4):\n",
    "    omega[i][i] = P[i] @ tau_sigma @ P[i].T\n",
    "omega"
   ]
  },
  {
   "cell_type": "markdown",
   "id": "13e1e62e",
   "metadata": {},
   "source": [
    "# Section 4\n",
    "\n",
    "We compute the posterior expected returns ```mu_bl```:\n",
    "$$ \\mu_{BL}=[(\\tau\\Sigma)^{-1}+P^{T}\\Omega^{-1} P]^{-1}[(\\tau\\Sigma)^{-1}\\mu_{CAPM}+P^{T}\\Omega^{-1}q] $$"
   ]
  },
  {
   "cell_type": "code",
   "execution_count": 7,
   "id": "34b0849a",
   "metadata": {},
   "outputs": [
    {
     "name": "stdout",
     "output_type": "stream",
     "text": [
      "The conditional expected excess return is:\n",
      "Asset 1: 6.18%\n",
      "Asset 2: 4.81%\n",
      "Asset 3: 4.35%\n",
      "Asset 4: 4.02%\n",
      "Asset 5: 7.45%\n",
      "Asset 6: 5.78%\n"
     ]
    }
   ],
   "source": [
    "# Computing the inverse of the product (tau)*sigma\n",
    "tau_sigma_inv = np.linalg.inv(tau_sigma)\n",
    "\n",
    "# Computing the inverse of the uncertainty matrix omega\n",
    "omga_inv = np.linalg.inv(omega)\n",
    "\n",
    "# Computing mu_bl by separating the first and second facto\n",
    "factor1 = np.linalg.inv(tau_sigma_inv + P.T @ omga_inv @ P)\n",
    "factor2 = np.reshape(tau_sigma_inv @ mu_capm,(1,-1)) + P.T @ omga_inv @ q\n",
    "mu_bl = factor1 * factor2.T\n",
    "print('The conditional expected excess return is:')\n",
    "\n",
    "# Displaying the posterior expected excess returns, in percents\n",
    "for i, retu in enumerate(np.asarray(mu_bl).reshape(-1)):\n",
    "    print(f\"Asset {i + 1}: {retu*100:.2f}%\")\n"
   ]
  },
  {
   "cell_type": "markdown",
   "id": "b2a2556a",
   "metadata": {},
   "source": [
    "We compute the posterior covariance matrix of returns ```sigma_bl```:\n",
    "$$ \\Sigma_{BL}=\\Sigma+[(\\tau\\Sigma)^{-1}+P^{T}\\Omega^{-1}P]^{-1} $$"
   ]
  },
  {
   "cell_type": "code",
   "execution_count": 8,
   "id": "c2945456",
   "metadata": {
    "scrolled": true
   },
   "outputs": [
    {
     "data": {
      "text/plain": [
       "matrix([[0.00694197, 0.0041054 , 0.00313391, 0.00313395, 0.0064204 ,\n",
       "         0.00717561],\n",
       "        [0.0041054 , 0.00822341, 0.00401553, 0.00355848, 0.00664713,\n",
       "         0.00649313],\n",
       "        [0.00313391, 0.00401553, 0.0096323 , 0.00282456, 0.00445212,\n",
       "         0.00439478],\n",
       "        [0.00313395, 0.00355848, 0.00282456, 0.00409108, 0.00516703,\n",
       "         0.00449033],\n",
       "        [0.0064204 , 0.00664713, 0.00445212, 0.00516703, 0.01761465,\n",
       "         0.00734237],\n",
       "        [0.00717561, 0.00649313, 0.00439478, 0.00449033, 0.00734237,\n",
       "         0.02759244]])"
      ]
     },
     "execution_count": 8,
     "metadata": {},
     "output_type": "execute_result"
    }
   ],
   "source": [
    "sigma_bl = sigma + np.linalg.inv(tau_sigma_inv + P.T @ omga_inv @ P)\n",
    "sigma_bl"
   ]
  },
  {
   "cell_type": "markdown",
   "id": "8888edf8",
   "metadata": {},
   "source": [
    "# Section 5\n",
    "\n",
    "We use the previously computed ```mu_bl``` and ```sigma_bl``` to compute the mean-variance weights.\n",
    "\n",
    "$$ w_{BL}=\\gamma_{mkt}\\Sigma_{BL}^{-1}\\mu_{BL} $$ "
   ]
  },
  {
   "cell_type": "code",
   "execution_count": 9,
   "id": "243f678d",
   "metadata": {},
   "outputs": [
    {
     "name": "stdout",
     "output_type": "stream",
     "text": [
      "Asset 1: 174.83%\n",
      "Asset 2: 13.70%\n",
      "Asset 3: 30.11%\n",
      "Asset 4: 91.29%\n",
      "Asset 5: 14.93%\n",
      "Asset 6: -17.33%\n"
     ]
    }
   ],
   "source": [
    "# Computing the mean variance weights using the previously defined mu_bl and sigma_bl\n",
    "wgt_BL = (1/gamma_mkt) * (np.linalg.inv(sigma_bl) @ mu_bl)\n",
    "\n",
    "# Displaying the mean variance weights, in percents\n",
    "for i, wgt in enumerate(np.asarray(wgt_BL).reshape(-1)):\n",
    "    print(f\"Asset {i + 1}: {wgt*100:.2f}%\")"
   ]
  },
  {
   "cell_type": "markdown",
   "id": "b5a8a20a",
   "metadata": {},
   "source": [
    "The weights from Black-Litterman model incorporates subjective views of investors along with equilibrium returns. <br> <br> Consequently, these weights tend to be higher on assets anticipated to yield great returns compared to their counterparts in both the CAPM and sample moments weights, such as AAPL, MSFT and NVDA. <br><br> Similarly, these weights tend to be lower on assets anticipated to yield low returns compared to their counterparts in both the CAPM and sample moments weights, such as TSLA. "
   ]
  },
  {
   "cell_type": "code",
   "execution_count": null,
   "id": "402605d2",
   "metadata": {},
   "outputs": [],
   "source": []
  }
 ],
 "metadata": {
  "kernelspec": {
   "display_name": "Python 3 (ipykernel)",
   "language": "python",
   "name": "python3"
  },
  "language_info": {
   "codemirror_mode": {
    "name": "ipython",
    "version": 3
   },
   "file_extension": ".py",
   "mimetype": "text/x-python",
   "name": "python",
   "nbconvert_exporter": "python",
   "pygments_lexer": "ipython3",
   "version": "3.11.4"
  }
 },
 "nbformat": 4,
 "nbformat_minor": 5
}
