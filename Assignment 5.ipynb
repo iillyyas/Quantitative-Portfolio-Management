{
 "cells": [
  {
   "cell_type": "markdown",
   "id": "6d62dc2f",
   "metadata": {},
   "source": [
    "# Section 0\n",
    "\n",
    "QPM: Assignment 5\n",
    "\n",
    "DENG Yunyun <br>\n",
    "LI Jiaxin <br>\n",
    "SBAI Ilyas <br>\n",
    "ZHOU Zhichen <br>\n",
    "\n",
    "Note: NA"
   ]
  },
  {
   "cell_type": "markdown",
   "id": "4057adb3",
   "metadata": {},
   "source": [
    "# Initial step to prepare the data"
   ]
  },
  {
   "cell_type": "markdown",
   "id": "bb605b94",
   "metadata": {},
   "source": [
    "Access data stored in the database"
   ]
  },
  {
   "cell_type": "code",
   "execution_count": 1,
   "id": "de66daa1",
   "metadata": {
    "scrolled": true
   },
   "outputs": [
    {
     "data": {
      "text/html": [
       "<div>\n",
       "<style scoped>\n",
       "    .dataframe tbody tr th:only-of-type {\n",
       "        vertical-align: middle;\n",
       "    }\n",
       "\n",
       "    .dataframe tbody tr th {\n",
       "        vertical-align: top;\n",
       "    }\n",
       "\n",
       "    .dataframe thead th {\n",
       "        text-align: right;\n",
       "    }\n",
       "</style>\n",
       "<table border=\"1\" class=\"dataframe\">\n",
       "  <thead>\n",
       "    <tr style=\"text-align: right;\">\n",
       "      <th></th>\n",
       "      <th>MMM</th>\n",
       "      <th>AOS</th>\n",
       "      <th>ABT</th>\n",
       "      <th>ADM</th>\n",
       "      <th>ADBE</th>\n",
       "      <th>ADP</th>\n",
       "      <th>AES</th>\n",
       "      <th>AFL</th>\n",
       "      <th>A</th>\n",
       "      <th>AKAM</th>\n",
       "    </tr>\n",
       "    <tr>\n",
       "      <th>date</th>\n",
       "      <th></th>\n",
       "      <th></th>\n",
       "      <th></th>\n",
       "      <th></th>\n",
       "      <th></th>\n",
       "      <th></th>\n",
       "      <th></th>\n",
       "      <th></th>\n",
       "      <th></th>\n",
       "      <th></th>\n",
       "    </tr>\n",
       "  </thead>\n",
       "  <tbody>\n",
       "    <tr>\n",
       "      <th>2000-02-29</th>\n",
       "      <td>-0.053376</td>\n",
       "      <td>-0.135342</td>\n",
       "      <td>0.013347</td>\n",
       "      <td>-0.150862</td>\n",
       "      <td>0.616504</td>\n",
       "      <td>-0.085216</td>\n",
       "      <td>0.044994</td>\n",
       "      <td>-0.170378</td>\n",
       "      <td>0.450696</td>\n",
       "      <td>0.047523</td>\n",
       "    </tr>\n",
       "    <tr>\n",
       "      <th>2000-03-31</th>\n",
       "      <td>0.004243</td>\n",
       "      <td>0.042560</td>\n",
       "      <td>0.064183</td>\n",
       "      <td>0.024541</td>\n",
       "      <td>0.087614</td>\n",
       "      <td>0.104224</td>\n",
       "      <td>-0.062304</td>\n",
       "      <td>0.220062</td>\n",
       "      <td>0.001203</td>\n",
       "      <td>-0.485239</td>\n",
       "    </tr>\n",
       "    <tr>\n",
       "      <th>2000-04-30</th>\n",
       "      <td>-0.022120</td>\n",
       "      <td>0.139391</td>\n",
       "      <td>0.093347</td>\n",
       "      <td>-0.037041</td>\n",
       "      <td>0.082932</td>\n",
       "      <td>0.109110</td>\n",
       "      <td>0.132836</td>\n",
       "      <td>0.068901</td>\n",
       "      <td>-0.159977</td>\n",
       "      <td>-0.486383</td>\n",
       "    </tr>\n",
       "    <tr>\n",
       "      <th>2000-05-31</th>\n",
       "      <td>-0.003692</td>\n",
       "      <td>0.021054</td>\n",
       "      <td>0.056887</td>\n",
       "      <td>0.188229</td>\n",
       "      <td>-0.071765</td>\n",
       "      <td>0.021828</td>\n",
       "      <td>-0.030337</td>\n",
       "      <td>0.058972</td>\n",
       "      <td>-0.185430</td>\n",
       "      <td>-0.392902</td>\n",
       "    </tr>\n",
       "    <tr>\n",
       "      <th>2000-06-30</th>\n",
       "      <td>-0.032595</td>\n",
       "      <td>-0.003728</td>\n",
       "      <td>0.090971</td>\n",
       "      <td>-0.196027</td>\n",
       "      <td>0.144227</td>\n",
       "      <td>-0.024957</td>\n",
       "      <td>0.044825</td>\n",
       "      <td>-0.117935</td>\n",
       "      <td>0.001697</td>\n",
       "      <td>0.575935</td>\n",
       "    </tr>\n",
       "    <tr>\n",
       "      <th>...</th>\n",
       "      <td>...</td>\n",
       "      <td>...</td>\n",
       "      <td>...</td>\n",
       "      <td>...</td>\n",
       "      <td>...</td>\n",
       "      <td>...</td>\n",
       "      <td>...</td>\n",
       "      <td>...</td>\n",
       "      <td>...</td>\n",
       "      <td>...</td>\n",
       "    </tr>\n",
       "    <tr>\n",
       "      <th>2022-08-31</th>\n",
       "      <td>-0.131211</td>\n",
       "      <td>-0.114056</td>\n",
       "      <td>-0.058554</td>\n",
       "      <td>0.064676</td>\n",
       "      <td>-0.093692</td>\n",
       "      <td>0.013553</td>\n",
       "      <td>0.135723</td>\n",
       "      <td>0.042781</td>\n",
       "      <td>-0.044604</td>\n",
       "      <td>-0.063721</td>\n",
       "    </tr>\n",
       "    <tr>\n",
       "      <th>2022-09-30</th>\n",
       "      <td>-0.118085</td>\n",
       "      <td>-0.150143</td>\n",
       "      <td>-0.059091</td>\n",
       "      <td>-0.088450</td>\n",
       "      <td>-0.305259</td>\n",
       "      <td>-0.073160</td>\n",
       "      <td>-0.118766</td>\n",
       "      <td>-0.055714</td>\n",
       "      <td>-0.053656</td>\n",
       "      <td>-0.116897</td>\n",
       "    </tr>\n",
       "    <tr>\n",
       "      <th>2022-10-31</th>\n",
       "      <td>0.129598</td>\n",
       "      <td>0.125910</td>\n",
       "      <td>0.026987</td>\n",
       "      <td>0.186869</td>\n",
       "      <td>0.146124</td>\n",
       "      <td>0.066322</td>\n",
       "      <td>0.152271</td>\n",
       "      <td>0.147161</td>\n",
       "      <td>0.131190</td>\n",
       "      <td>0.095061</td>\n",
       "    </tr>\n",
       "    <tr>\n",
       "      <th>2022-11-30</th>\n",
       "      <td>0.013071</td>\n",
       "      <td>0.103277</td>\n",
       "      <td>0.083721</td>\n",
       "      <td>0.009599</td>\n",
       "      <td>0.079719</td>\n",
       "      <td>0.088782</td>\n",
       "      <td>0.100302</td>\n",
       "      <td>0.105454</td>\n",
       "      <td>0.113509</td>\n",
       "      <td>0.071322</td>\n",
       "    </tr>\n",
       "    <tr>\n",
       "      <th>2022-12-31</th>\n",
       "      <td>-0.049219</td>\n",
       "      <td>-0.059350</td>\n",
       "      <td>0.020335</td>\n",
       "      <td>-0.048867</td>\n",
       "      <td>-0.024654</td>\n",
       "      <td>-0.095768</td>\n",
       "      <td>-0.005548</td>\n",
       "      <td>0.000139</td>\n",
       "      <td>-0.033507</td>\n",
       "      <td>-0.118020</td>\n",
       "    </tr>\n",
       "  </tbody>\n",
       "</table>\n",
       "<p>275 rows × 10 columns</p>\n",
       "</div>"
      ],
      "text/plain": [
       "                 MMM       AOS       ABT       ADM      ADBE       ADP  \\\n",
       "date                                                                     \n",
       "2000-02-29 -0.053376 -0.135342  0.013347 -0.150862  0.616504 -0.085216   \n",
       "2000-03-31  0.004243  0.042560  0.064183  0.024541  0.087614  0.104224   \n",
       "2000-04-30 -0.022120  0.139391  0.093347 -0.037041  0.082932  0.109110   \n",
       "2000-05-31 -0.003692  0.021054  0.056887  0.188229 -0.071765  0.021828   \n",
       "2000-06-30 -0.032595 -0.003728  0.090971 -0.196027  0.144227 -0.024957   \n",
       "...              ...       ...       ...       ...       ...       ...   \n",
       "2022-08-31 -0.131211 -0.114056 -0.058554  0.064676 -0.093692  0.013553   \n",
       "2022-09-30 -0.118085 -0.150143 -0.059091 -0.088450 -0.305259 -0.073160   \n",
       "2022-10-31  0.129598  0.125910  0.026987  0.186869  0.146124  0.066322   \n",
       "2022-11-30  0.013071  0.103277  0.083721  0.009599  0.079719  0.088782   \n",
       "2022-12-31 -0.049219 -0.059350  0.020335 -0.048867 -0.024654 -0.095768   \n",
       "\n",
       "                 AES       AFL         A      AKAM  \n",
       "date                                                \n",
       "2000-02-29  0.044994 -0.170378  0.450696  0.047523  \n",
       "2000-03-31 -0.062304  0.220062  0.001203 -0.485239  \n",
       "2000-04-30  0.132836  0.068901 -0.159977 -0.486383  \n",
       "2000-05-31 -0.030337  0.058972 -0.185430 -0.392902  \n",
       "2000-06-30  0.044825 -0.117935  0.001697  0.575935  \n",
       "...              ...       ...       ...       ...  \n",
       "2022-08-31  0.135723  0.042781 -0.044604 -0.063721  \n",
       "2022-09-30 -0.118766 -0.055714 -0.053656 -0.116897  \n",
       "2022-10-31  0.152271  0.147161  0.131190  0.095061  \n",
       "2022-11-30  0.100302  0.105454  0.113509  0.071322  \n",
       "2022-12-31 -0.005548  0.000139 -0.033507 -0.118020  \n",
       "\n",
       "[275 rows x 10 columns]"
      ]
     },
     "execution_count": 1,
     "metadata": {},
     "output_type": "execute_result"
    }
   ],
   "source": [
    "import pandas as pd\n",
    "import numpy as np\n",
    "import yfinance as yf\n",
    "import matplotlib.pyplot as plt\n",
    "import sqlite3\n",
    "\n",
    "#Establish the connection to the SQLite database\n",
    "SnP500 = sqlite3.connect(database=\"/Users/lijiaxin/Downloads/M2/S2/QPM/snp500.sqlite\")\n",
    "\n",
    "log_return=(pd.read_sql_query(\n",
    "        sql=\"SELECT * FROM TenCompanies_log_ret_monthly\",\n",
    "        con=SnP500))\n",
    "\n",
    "log_return.set_index('date', inplace=True)\n",
    "log_return.index=pd.to_datetime(log_return.index)\n",
    "log_return"
   ]
  },
  {
   "cell_type": "code",
   "execution_count": 25,
   "id": "664a4705",
   "metadata": {
    "scrolled": true
   },
   "outputs": [
    {
     "data": {
      "text/html": [
       "<div>\n",
       "<style scoped>\n",
       "    .dataframe tbody tr th:only-of-type {\n",
       "        vertical-align: middle;\n",
       "    }\n",
       "\n",
       "    .dataframe tbody tr th {\n",
       "        vertical-align: top;\n",
       "    }\n",
       "\n",
       "    .dataframe thead th {\n",
       "        text-align: right;\n",
       "    }\n",
       "</style>\n",
       "<table border=\"1\" class=\"dataframe\">\n",
       "  <thead>\n",
       "    <tr style=\"text-align: right;\">\n",
       "      <th></th>\n",
       "      <th>MMM</th>\n",
       "      <th>AOS</th>\n",
       "      <th>ABT</th>\n",
       "      <th>ADM</th>\n",
       "      <th>ADBE</th>\n",
       "      <th>ADP</th>\n",
       "      <th>AES</th>\n",
       "      <th>AFL</th>\n",
       "      <th>A</th>\n",
       "      <th>AKAM</th>\n",
       "    </tr>\n",
       "    <tr>\n",
       "      <th>date</th>\n",
       "      <th></th>\n",
       "      <th></th>\n",
       "      <th></th>\n",
       "      <th></th>\n",
       "      <th></th>\n",
       "      <th></th>\n",
       "      <th></th>\n",
       "      <th></th>\n",
       "      <th></th>\n",
       "      <th></th>\n",
       "    </tr>\n",
       "  </thead>\n",
       "  <tbody>\n",
       "    <tr>\n",
       "      <th>2014-10-31</th>\n",
       "      <td>0.081887</td>\n",
       "      <td>0.123641</td>\n",
       "      <td>0.052267</td>\n",
       "      <td>-0.083637</td>\n",
       "      <td>0.013352</td>\n",
       "      <td>0.11438</td>\n",
       "      <td>-0.004052</td>\n",
       "      <td>0.02509</td>\n",
       "      <td>-0.030289</td>\n",
       "      <td>0.008326</td>\n",
       "    </tr>\n",
       "  </tbody>\n",
       "</table>\n",
       "</div>"
      ],
      "text/plain": [
       "                 MMM       AOS       ABT       ADM      ADBE      ADP  \\\n",
       "date                                                                    \n",
       "2014-10-31  0.081887  0.123641  0.052267 -0.083637  0.013352  0.11438   \n",
       "\n",
       "                 AES      AFL         A      AKAM  \n",
       "date                                               \n",
       "2014-10-31 -0.004052  0.02509 -0.030289  0.008326  "
      ]
     },
     "execution_count": 25,
     "metadata": {},
     "output_type": "execute_result"
    }
   ],
   "source": [
    "#check if the result matches with solution for A3\n",
    "log_return[log_return.index=='2014-10-31']"
   ]
  },
  {
   "cell_type": "markdown",
   "id": "18094e53",
   "metadata": {},
   "source": [
    "# Section 1"
   ]
  },
  {
   "cell_type": "markdown",
   "id": "2370fc4a",
   "metadata": {},
   "source": [
    "We first define the necessary data: the estimation window ```T_est```, the vector of monthly mean returns ```mu```, the variance-covariance matrix of annualised returns ```V``` and its inverse ```Vinverse```. <br>\n",
    "We use the data from the first 60 days."
   ]
  },
  {
   "cell_type": "code",
   "execution_count": 2,
   "id": "3a871c7b",
   "metadata": {},
   "outputs": [],
   "source": [
    "from scipy.optimize import minimize"
   ]
  },
  {
   "cell_type": "code",
   "execution_count": 12,
   "id": "edbbc4ed",
   "metadata": {},
   "outputs": [],
   "source": [
    "#Set the first 60 months to be the estimation window\n",
    "T_est = 60\n",
    "sp = log_return.iloc[0:T_est,:]\n",
    "\n",
    "#risk free rate is set to 0\n",
    "Rf = 0\n",
    "\n",
    "# Investor’s risk aversion\n",
    "# The value chosen matches that for risk-minimization formulation\n",
    "#gamma=2.715745\n",
    "gamma = 2\n",
    "\n",
    "#Define a column vector of ones\n",
    "n=len(log_return.columns)\n",
    "ones = np.ones((n,1))\n",
    "\n",
    "#Column vector of monthly mean returns\n",
    "mu = sp.mean().to_numpy().reshape(-1,1)\n",
    "\n",
    "#Variance-covariance matrix\n",
    "V = sp.cov().to_numpy()\n",
    "\n",
    "#Define inverse of the variance-covariance matrix\n",
    "Vinverse = np.linalg.inv(V)"
   ]
  },
  {
   "cell_type": "code",
   "execution_count": 13,
   "id": "bdf443d4",
   "metadata": {},
   "outputs": [],
   "source": [
    "# Define the objective function to be minimized\n",
    "# Note that the optimizer only minimizes,\n",
    "# so reverse sign of objective if it is to be maximized\n",
    "\n",
    "def objective_MVP(weights):\n",
    "    portfolio_return = weights.T @ (mu - Rf * ones)\n",
    "    portfolio_risk = weights.T @ V @ weights\n",
    "    return (gamma/2) * portfolio_risk - portfolio_return\n",
    "\n",
    "# Define the initial guess for weights\n",
    "initial_weights = np.ones(n)/n\n",
    "\n",
    "# Define the equality constraint (weights sum to 1)\n",
    "constraints = ({'type': 'eq', 'fun': lambda weights: np.sum(weights) -1})\n",
    "\n",
    "# Add a lower-bound constraint of 0 to the above problem\n",
    "# There is no upper bound, so I have set it to 999\n",
    "\n",
    "bounds = tuple((0, 999) for _ in range (n))\n",
    "\n",
    "# When calling minimize, we add ‘‘bounds’’ to the minimization function\n",
    "result = minimize(objective_MVP, initial_weights, method='SLSQP', bounds = bounds, constraints=constraints)"
   ]
  },
  {
   "cell_type": "code",
   "execution_count": 14,
   "id": "c517398d",
   "metadata": {
    "scrolled": true
   },
   "outputs": [
    {
     "name": "stdout",
     "output_type": "stream",
     "text": [
      "\n",
      "* Using numerical solver and with short-sale constraints\n",
      "\n",
      "Weights of the mean-variance portfolio (MVP) are = \n",
      "['0.299701', '0.000000', '0.000000', '0.504113', '0.128858', '0.000000', '0.000000', '0.067328', '0.000000', '0.000000']\n",
      "\n",
      "Weight in the risk-free asset = \n",
      "[0.]\n",
      "\n",
      "Weights of the tangency portfolio (based on MVP) are = \n",
      "['0.299701', '0.000000', '0.000000', '0.504113', '0.128858', '0.000000', '0.000000', '0.067328', '0.000000', '0.000000']\n"
     ]
    }
   ],
   "source": [
    "# Extract the optimal weights from results\n",
    "optimal_weights = result.x\n",
    "\n",
    "#Weights in the risk-free asset\n",
    "w_riskFree = 1 - ones.T @ optimal_weights\n",
    "\n",
    "#Weights of the ‘‘tangency’’ portfolio\n",
    "w_tangency = optimal_weights / (ones.T @ optimal_weights)\n",
    "\n",
    "w_mvp_shortsaleConstrained = list(map(lambda num: format(num, '.6f'), optimal_weights))\n",
    "w_tangency_formatted = list(map(lambda num: format(num, '.6f'), w_tangency))\n",
    "\n",
    "print(\"\\n* Using numerical solver and with short-sale constraints\")\n",
    "print(\"\\nWeights of the mean-variance portfolio (MVP) are = \")\n",
    "print(w_mvp_shortsaleConstrained)\n",
    "print(\"\\nWeight in the risk-free asset = \")\n",
    "print(w_riskFree)\n",
    "print(\"\\nWeights of the tangency portfolio (based on MVP) are = \")\n",
    "print(w_tangency_formatted)"
   ]
  },
  {
   "cell_type": "markdown",
   "id": "5587a57c",
   "metadata": {},
   "source": [
    "Solution for GMV with short-sale constraints"
   ]
  },
  {
   "cell_type": "code",
   "execution_count": 15,
   "id": "1b6ec3c3",
   "metadata": {},
   "outputs": [
    {
     "name": "stdout",
     "output_type": "stream",
     "text": [
      "\n",
      "* Using numeric solution with short-sale constraints\n",
      "\n",
      "Optimal Weights:\n",
      "\n",
      "Asset 1: 0.297956\n",
      "Minimum Portfolio Variance is: 0.001779839494870714\n",
      "\n",
      "Asset 2: 0.091313\n",
      "Minimum Portfolio Variance is: 0.001779839494870714\n",
      "\n",
      "Asset 3: 0.294329\n",
      "Minimum Portfolio Variance is: 0.001779839494870714\n",
      "\n",
      "Asset 4: 0.064539\n",
      "Minimum Portfolio Variance is: 0.001779839494870714\n",
      "\n",
      "Asset 5: 0.025332\n",
      "Minimum Portfolio Variance is: 0.001779839494870714\n",
      "\n",
      "Asset 6: 0.084256\n",
      "Minimum Portfolio Variance is: 0.001779839494870714\n",
      "\n",
      "Asset 7: 0.003484\n",
      "Minimum Portfolio Variance is: 0.001779839494870714\n",
      "\n",
      "Asset 8: 0.138793\n",
      "Minimum Portfolio Variance is: 0.001779839494870714\n",
      "\n",
      "Asset 9: 0.000000\n",
      "Minimum Portfolio Variance is: 0.001779839494870714\n",
      "\n",
      "Asset 10: 0.000000\n",
      "Minimum Portfolio Variance is: 0.001779839494870714\n"
     ]
    }
   ],
   "source": [
    "# Define the objective function to be minimized (portfolio variance)\n",
    "\n",
    "def objective_GMV(weights, V):\n",
    "    portfolio_variance = weights.T @ V @ weights\n",
    "    return portfolio_variance\n",
    "\n",
    "# Define the equality constraint (weights sum to 1)\n",
    "constraints = ({'type': 'eq', 'fun': lambda weights: np.sum(weights) -1})\n",
    "\n",
    "# Use scipy.optimize.minimize to find the optimal weights\n",
    "result = minimize(objective_GMV, initial_weights, args=(V,), method='SLSQP',\n",
    "bounds=bounds, constraints=constraints)\n",
    "\n",
    "# Extract the optimal weights\n",
    "\n",
    "optimal_weights = result.x\n",
    "\n",
    "# Print the results\n",
    "print(\"\\n* Using numeric solution with short-sale constraints\")\n",
    "print(\"\\nOptimal Weights:\")\n",
    "for i, weight in enumerate(optimal_weights):\n",
    "    print(f\"\\nAsset {i + 1}: {weight:.6f}\")\n",
    "    print(\"Minimum Portfolio Variance is:\", result.fun)"
   ]
  },
  {
   "cell_type": "code",
   "execution_count": 16,
   "id": "673d9750",
   "metadata": {},
   "outputs": [
    {
     "data": {
      "text/plain": [
       "1.0"
      ]
     },
     "execution_count": 16,
     "metadata": {},
     "output_type": "execute_result"
    }
   ],
   "source": [
    "np.sum(optimal_weights)"
   ]
  },
  {
   "cell_type": "markdown",
   "id": "fb7c7fde",
   "metadata": {},
   "source": [
    "# Section 2"
   ]
  },
  {
   "cell_type": "markdown",
   "id": "747d85ba",
   "metadata": {},
   "source": [
    "We use the rolling window $T^{est}=60$ to estimate the time series of optimal weights for both strategies by looping through the dates."
   ]
  },
  {
   "cell_type": "code",
   "execution_count": 17,
   "id": "b6fb7797",
   "metadata": {},
   "outputs": [],
   "source": [
    "#set the target return for mean variance portfolio\n",
    "\n",
    "#create empty list to store the weights\n",
    "w_MVP_list = []\n",
    "w_GMV_list = []\n",
    "\n",
    "Rf=0,\n",
    "ones=np.ones((n,1))\n",
    "\n",
    "#loop through the dates,\n",
    "#at each date compute the weights for the two strategies based on the previous 60 days of monthly returns\n",
    "\n",
    "for i in range (0,len(log_return)-60):\n",
    "    #calculate the metrics for each window\n",
    "    sp_est = log_return.iloc[i:T_est+i,:]\n",
    "    mu = sp_est.mean().to_numpy().reshape(-1,1)\n",
    "    V = sp_est.cov().to_numpy()\n",
    "    Vinverse = np.linalg.inv(V)\n",
    "    \n",
    "    result_MVP = minimize(objective_MVP, initial_weights, method='SLSQP', bounds = bounds, constraints=constraints)\n",
    "    w_MVP = result_MVP.x\n",
    "    \n",
    "    result_GMV = minimize(objective_GMV, initial_weights, args=(V,), method='SLSQP',\n",
    "                          bounds=bounds, constraints=constraints) \n",
    "    w_GMV = result_GMV.x\n",
    "    \n",
    "    w_MVP_list.append(w_MVP)\n",
    "    w_GMV_list.append(w_GMV)\n",
    "\n",
    "#create the time series of weights by adding up the datetime index\n",
    "w_MVP_ts = pd.Series(w_MVP_list, index=log_return.index[60:276])\n",
    "w_GMV_ts = pd.Series(w_GMV_list, index=log_return.index[60:276])"
   ]
  },
  {
   "cell_type": "code",
   "execution_count": 18,
   "id": "1c8e08a4",
   "metadata": {},
   "outputs": [
    {
     "data": {
      "text/plain": [
       "date\n",
       "2005-02-28    [0.29970077771986314, 0.0, 0.0, 0.504113165854...\n",
       "2005-03-31    [0.22337423031480635, 0.0, 0.0, 0.574837626042...\n",
       "2005-04-30    [0.37566265142889244, 0.0033639329772872017, 0...\n",
       "2005-05-31    [0.44096426397385613, 0.037492164630596805, 0....\n",
       "2005-06-30    [0.5956816349361854, 0.09566697889349875, 0.0,...\n",
       "                                    ...                        \n",
       "2022-08-31    [0.0, 0.0, 0.36027598526227556, 0.160756641684...\n",
       "2022-09-30    [0.0, 3.719117917270417e-18, 0.117677317787011...\n",
       "2022-10-31    [4.319382790219587e-17, 1.094012396213501e-18,...\n",
       "2022-11-30    [0.0, 0.0, 0.0, 0.515420836140725, 1.512290201...\n",
       "2022-12-31    [0.0, 9.908107490823384e-17, 0.0, 0.3787326939...\n",
       "Length: 215, dtype: object"
      ]
     },
     "execution_count": 18,
     "metadata": {},
     "output_type": "execute_result"
    }
   ],
   "source": [
    "w_MVP_ts"
   ]
  },
  {
   "cell_type": "code",
   "execution_count": 19,
   "id": "099d0102",
   "metadata": {},
   "outputs": [
    {
     "data": {
      "text/plain": [
       "date\n",
       "2005-02-28    [0.29795592767945606, 0.09131272736634102, 0.2...\n",
       "2005-03-31    [0.2884157061326681, 0.09340644859051198, 0.27...\n",
       "2005-04-30    [0.25716579098213943, 0.0919420886358533, 0.26...\n",
       "2005-05-31    [0.22166645908553226, 0.11088265435555311, 0.2...\n",
       "2005-06-30    [0.21419910559443592, 0.10570903108669749, 0.2...\n",
       "                                    ...                        \n",
       "2022-08-31    [0.026171989604653226, 1.0408340855860843e-17,...\n",
       "2022-09-30    [0.0, 2.289235386371449e-18, 0.269705882257739...\n",
       "2022-10-31    [1.0408340855860843e-17, 0.0, 0.25742448355670...\n",
       "2022-11-30    [0.0, 0.0, 0.2855515937084144, 0.1332613675564...\n",
       "2022-12-31    [0.017236729248999827, 0.0, 0.2822520663320782...\n",
       "Length: 215, dtype: object"
      ]
     },
     "execution_count": 19,
     "metadata": {},
     "output_type": "execute_result"
    }
   ],
   "source": [
    "w_GMV_ts"
   ]
  },
  {
   "cell_type": "markdown",
   "id": "c4040382",
   "metadata": {},
   "source": [
    "# Section 3"
   ]
  },
  {
   "cell_type": "markdown",
   "id": "5ea2f8d9",
   "metadata": {},
   "source": [
    "We calculate the out-of-sample returns for both strategies at time $t+1$ by multiplying the weights estimated from the information available until time $t$ by the stock returns at time $t+1$."
   ]
  },
  {
   "cell_type": "code",
   "execution_count": 20,
   "id": "788db04a",
   "metadata": {},
   "outputs": [],
   "source": [
    "#create an empty list\n",
    "ret_MVP_list = []\n",
    "ret_GMV_list = []\n",
    "\n",
    "for i in range (0,len(log_return)-60):\n",
    "    ret_MVP_est = (log_return.iloc[T_est+i,:].to_numpy())@w_MVP_ts[i]\n",
    "    ret_MVP_list.append(ret_MVP_est)\n",
    "    \n",
    "    ret_GMV_est = (log_return.iloc[T_est+i,:].to_numpy())@w_GMV_ts[i]\n",
    "    ret_GMV_list.append(ret_GMV_est)\n",
    "    \n",
    "#create the time series of monthly returns by adding up the datetime index \n",
    "ret_MVP_ts = pd.Series(ret_MVP_list, index=log_return.index[60:])\n",
    "ret_GMV_ts = pd.Series(ret_GMV_list, index=log_return.index[60:])"
   ]
  },
  {
   "cell_type": "markdown",
   "id": "c98e40fc",
   "metadata": {},
   "source": [
    "# Section 4"
   ]
  },
  {
   "cell_type": "code",
   "execution_count": 21,
   "id": "80545ec8",
   "metadata": {},
   "outputs": [
    {
     "name": "stdout",
     "output_type": "stream",
     "text": [
      "The Sharpe ratio for the mean-variance portfolio is: 0.4190485923425447 \n",
      "\n",
      "The Sharpe ratio for the global minimum variance portfolio is: 0.7044580011322243 \n",
      "\n",
      "The global minimum variance portfolio has higher sharpe ratio.\n"
     ]
    }
   ],
   "source": [
    "SR_MVP = np.sqrt(12)*np.mean(ret_MVP_ts) / np.std(ret_MVP_ts)\n",
    "SR_GMV = np.sqrt(12)*np.mean(ret_GMV_ts) / np.std(ret_GMV_ts)\n",
    "\n",
    "print('The Sharpe ratio for the mean-variance portfolio is:',SR_MVP,'\\n')\n",
    "print('The Sharpe ratio for the global minimum variance portfolio is:',SR_GMV, '\\n')\n",
    "\n",
    "if SR_MVP > SR_GMV:\n",
    "    print('The mean-variance portfolio has higher sharpe ratio.')\n",
    "else: \n",
    "    print('The global minimum variance portfolio has higher sharpe ratio.')"
   ]
  },
  {
   "cell_type": "code",
   "execution_count": null,
   "id": "4656c6c6",
   "metadata": {},
   "outputs": [],
   "source": []
  }
 ],
 "metadata": {
  "kernelspec": {
   "display_name": "Python 3 (ipykernel)",
   "language": "python",
   "name": "python3"
  },
  "language_info": {
   "codemirror_mode": {
    "name": "ipython",
    "version": 3
   },
   "file_extension": ".py",
   "mimetype": "text/x-python",
   "name": "python",
   "nbconvert_exporter": "python",
   "pygments_lexer": "ipython3",
   "version": "3.11.4"
  }
 },
 "nbformat": 4,
 "nbformat_minor": 5
}
