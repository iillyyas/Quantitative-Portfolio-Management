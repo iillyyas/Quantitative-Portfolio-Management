{
 "cells": [
  {
   "cell_type": "markdown",
   "id": "6d62dc2f",
   "metadata": {},
   "source": [
    "# Section 0\n",
    "\n",
    "QPM: Assignment 7\n",
    "\n",
    "DENG Yunyun <br>\n",
    "LI Jiaxin <br>\n",
    "SBAI Ilyas <br>\n",
    "ZHOU Zhichen <br>\n",
    "\n",
    "Note: NA"
   ]
  },
  {
   "cell_type": "markdown",
   "id": "b7ffbcb4",
   "metadata": {},
   "source": [
    "# Section 0.bis\n",
    "\n",
    "We retrieve the excel data for the 9 factors and store it in the dataframe ```ret```"
   ]
  },
  {
   "cell_type": "code",
   "execution_count": 1,
   "id": "b04c23d6",
   "metadata": {},
   "outputs": [],
   "source": [
    "import pandas as pd\n",
    "import numpy as np\n",
    "from scipy.optimize import minimize"
   ]
  },
  {
   "cell_type": "code",
   "execution_count": 2,
   "id": "f2662877",
   "metadata": {},
   "outputs": [
    {
     "data": {
      "text/html": [
       "<div>\n",
       "<style scoped>\n",
       "    .dataframe tbody tr th:only-of-type {\n",
       "        vertical-align: middle;\n",
       "    }\n",
       "\n",
       "    .dataframe tbody tr th {\n",
       "        vertical-align: top;\n",
       "    }\n",
       "\n",
       "    .dataframe thead th {\n",
       "        text-align: right;\n",
       "    }\n",
       "</style>\n",
       "<table border=\"1\" class=\"dataframe\">\n",
       "  <thead>\n",
       "    <tr style=\"text-align: right;\">\n",
       "      <th></th>\n",
       "      <th>Market</th>\n",
       "      <th>SMB</th>\n",
       "      <th>HML</th>\n",
       "      <th>RMW</th>\n",
       "      <th>CMA</th>\n",
       "      <th>UMD</th>\n",
       "      <th>ROE</th>\n",
       "      <th>IA</th>\n",
       "      <th>BAB</th>\n",
       "    </tr>\n",
       "  </thead>\n",
       "  <tbody>\n",
       "    <tr>\n",
       "      <th>count</th>\n",
       "      <td>647.000</td>\n",
       "      <td>647.000</td>\n",
       "      <td>647.000</td>\n",
       "      <td>647.000</td>\n",
       "      <td>647.000</td>\n",
       "      <td>647.000</td>\n",
       "      <td>647.000</td>\n",
       "      <td>647.000</td>\n",
       "      <td>647.000</td>\n",
       "    </tr>\n",
       "    <tr>\n",
       "      <th>mean</th>\n",
       "      <td>0.006</td>\n",
       "      <td>0.002</td>\n",
       "      <td>0.002</td>\n",
       "      <td>0.003</td>\n",
       "      <td>0.003</td>\n",
       "      <td>0.006</td>\n",
       "      <td>0.005</td>\n",
       "      <td>0.003</td>\n",
       "      <td>0.009</td>\n",
       "    </tr>\n",
       "    <tr>\n",
       "      <th>std</th>\n",
       "      <td>0.046</td>\n",
       "      <td>0.031</td>\n",
       "      <td>0.029</td>\n",
       "      <td>0.022</td>\n",
       "      <td>0.020</td>\n",
       "      <td>0.043</td>\n",
       "      <td>0.026</td>\n",
       "      <td>0.019</td>\n",
       "      <td>0.034</td>\n",
       "    </tr>\n",
       "    <tr>\n",
       "      <th>min</th>\n",
       "      <td>-0.232</td>\n",
       "      <td>-0.169</td>\n",
       "      <td>-0.140</td>\n",
       "      <td>-0.183</td>\n",
       "      <td>-0.069</td>\n",
       "      <td>-0.344</td>\n",
       "      <td>-0.145</td>\n",
       "      <td>-0.072</td>\n",
       "      <td>-0.157</td>\n",
       "    </tr>\n",
       "    <tr>\n",
       "      <th>25%</th>\n",
       "      <td>-0.021</td>\n",
       "      <td>-0.017</td>\n",
       "      <td>-0.014</td>\n",
       "      <td>-0.009</td>\n",
       "      <td>-0.010</td>\n",
       "      <td>-0.010</td>\n",
       "      <td>-0.007</td>\n",
       "      <td>-0.008</td>\n",
       "      <td>-0.005</td>\n",
       "    </tr>\n",
       "    <tr>\n",
       "      <th>50%</th>\n",
       "      <td>0.009</td>\n",
       "      <td>0.001</td>\n",
       "      <td>0.002</td>\n",
       "      <td>0.002</td>\n",
       "      <td>0.001</td>\n",
       "      <td>0.007</td>\n",
       "      <td>0.006</td>\n",
       "      <td>0.003</td>\n",
       "      <td>0.010</td>\n",
       "    </tr>\n",
       "    <tr>\n",
       "      <th>75%</th>\n",
       "      <td>0.036</td>\n",
       "      <td>0.020</td>\n",
       "      <td>0.017</td>\n",
       "      <td>0.013</td>\n",
       "      <td>0.015</td>\n",
       "      <td>0.029</td>\n",
       "      <td>0.019</td>\n",
       "      <td>0.015</td>\n",
       "      <td>0.025</td>\n",
       "    </tr>\n",
       "    <tr>\n",
       "      <th>max</th>\n",
       "      <td>0.161</td>\n",
       "      <td>0.217</td>\n",
       "      <td>0.129</td>\n",
       "      <td>0.133</td>\n",
       "      <td>0.096</td>\n",
       "      <td>0.184</td>\n",
       "      <td>0.104</td>\n",
       "      <td>0.092</td>\n",
       "      <td>0.154</td>\n",
       "    </tr>\n",
       "  </tbody>\n",
       "</table>\n",
       "</div>"
      ],
      "text/plain": [
       "        Market      SMB      HML      RMW      CMA      UMD      ROE       IA  \\\n",
       "count  647.000  647.000  647.000  647.000  647.000  647.000  647.000  647.000   \n",
       "mean     0.006    0.002    0.002    0.003    0.003    0.006    0.005    0.003   \n",
       "std      0.046    0.031    0.029    0.022    0.020    0.043    0.026    0.019   \n",
       "min     -0.232   -0.169   -0.140   -0.183   -0.069   -0.344   -0.145   -0.072   \n",
       "25%     -0.021   -0.017   -0.014   -0.009   -0.010   -0.010   -0.007   -0.008   \n",
       "50%      0.009    0.001    0.002    0.002    0.001    0.007    0.006    0.003   \n",
       "75%      0.036    0.020    0.017    0.013    0.015    0.029    0.019    0.015   \n",
       "max      0.161    0.217    0.129    0.133    0.096    0.184    0.104    0.092   \n",
       "\n",
       "           BAB  \n",
       "count  647.000  \n",
       "mean     0.009  \n",
       "std      0.034  \n",
       "min     -0.157  \n",
       "25%     -0.005  \n",
       "50%      0.010  \n",
       "75%      0.025  \n",
       "max      0.154  "
      ]
     },
     "execution_count": 2,
     "metadata": {},
     "output_type": "execute_result"
    }
   ],
   "source": [
    "ret = pd.read_excel('QPM-FactorsData.xlsx')\n",
    "ret = ret.set_index('Dates')\n",
    "ret.describe().round(3)"
   ]
  },
  {
   "cell_type": "markdown",
   "id": "ef7e7faa",
   "metadata": {},
   "source": [
    "# Section 1"
   ]
  },
  {
   "cell_type": "markdown",
   "id": "410bbb7f",
   "metadata": {},
   "source": [
    "Dividend discount model can explain why these factors are related to stock returns: <br>\n",
    ">$\\frac{M_t}{B_t}=\\frac{\\sum^{\\infty}_{\\tau = 1} E(Y_{t+\\tau} - dB_{t+\\tau})/(1+r)^{\\tau}}{B_t}$ (1)\n",
    "\n",
    "$M_t$ is the share price, $B_t$ is the total book equity, $r$ is the long-term average expected stock return, $Y_{t+\\tau}$ is the total equity earnings for period $t+\\tau$ and $dB_{t+\\tau}$ is the change in total book equity\n",
    "\n",
    "1. **Market (Market Risk)**<br>\n",
    "    Investors demand a risk premium for taking market risk.\n",
    "2. **SMB (Small Minus Big - Market Cap)**<br>\n",
    "    Small-cap stocks have historically outperformed large-cap stocks, possibly due to their higher risk and growth potential.\n",
    "3. **HML (High Minus Low -  book-to-market ratio)**<br> In equation (1), fix everything, a lower value of $M_t$, equivalently a higher book-to-market ratio implies a higher expected return\n",
    "4. **RMW (Robust Minus Weak - Profitability)**<br> In equation (1), fix everything, a higher value of $E(Y_{t+\\tau})$, equivalently a higher expected future earnings - profitiability - implies a higher expected\n",
    "5. **CMA (Conservatice Minus Aggressive - Investment)** <br>\n",
    "    In equation (1), fix everything, a higher value of $E(dB_{t+\\tau})$, equivalently a higher expected growth in book equity - investment - implies a higher expected \n",
    "6. **UMD (Up minus Down - Momentum)**<br>\n",
    "    Assets that have performed well in the recent past tend to continue performing well (or vice versa)\n",
    "7. **ROE (Return on Equity - Profitability)** <br>\n",
    "    As another factor for profitability, ROE shares the same rationale as that of RMW.  The high discount rates are necessary to offset the high expected ROE to induce low net present values of new capital and low investment.\n",
    "8. **IA (Investment to Assets)**<br>\n",
    "    Similar to CMA, the IA factor predicts returns because given expected cash flows, high costs of capital (r) implies low net present values of new capital and low investment.\n",
    "9. **BAB (Bet Against Beta)** <br>\n",
    "    Low-beta stocks have historically provided similar or better risk-adjusted returns compared to high-beta stocks\n",
    "\n",
    "\n",
    "\n"
   ]
  },
  {
   "cell_type": "markdown",
   "id": "9d2f5191",
   "metadata": {},
   "source": [
    "# Section 2"
   ]
  },
  {
   "cell_type": "markdown",
   "id": "646bc20c",
   "metadata": {},
   "source": [
    "The resultant standardized characteristic is a long-short portfolio and all 9 factors are the return of a long-short portfolio -> the 9 characteristics are standardized already\n",
    "\n",
    "At time t, each factor value in the dataset is the characteristic return of 2000 stocks on a long-short portfolio that longs stocks whose characteristic is above the cross-sectional average and shorts stocks whose characteristic is below cross-sectional average, or is equivalently $F_{i,t}r_{i,t-1}$, where $r_{i,t-1}$ is the return on stocks, $F_{i,t}$ is the long-short characteristic portfolio"
   ]
  },
  {
   "cell_type": "code",
   "execution_count": 3,
   "id": "f96cdee9",
   "metadata": {
    "scrolled": true
   },
   "outputs": [],
   "source": [
    "#assign parameters\n",
    "#number of factors\n",
    "k = len(ret.columns)-1\n",
    "\n",
    "#number of stock\n",
    "N = 2000\n",
    "\n",
    "#risk aversion\n",
    "gamma = 5"
   ]
  },
  {
   "cell_type": "markdown",
   "id": "b35ba645",
   "metadata": {},
   "source": [
    "We then compute the parametric-portfolio return and its mean and variance for the optimization problem of a mean-variance investor:\n",
    ">$r_{p,t+1}(\\theta) = r_{b,t+1} + \\frac{1}{N_t}\\theta ^T F_t^T r_{t+1}$ (2)"
   ]
  },
  {
   "cell_type": "code",
   "execution_count": 4,
   "id": "7594cf09",
   "metadata": {},
   "outputs": [],
   "source": [
    "#assume that the investor's benchmark is the market portfolio\n",
    "#define the objective mean-variance utility function for the remaining 8 factors\n",
    "def mv_utility(theta, gamma):\n",
    "    ret_ben = ret.iloc[:,0].mean()\n",
    "    ret_cha = ret.iloc[:,1:].mean()\n",
    "    return_para = ret.iloc[:,0] + (ret.iloc[:,1:]@theta/N)\n",
    "    portfolio_return = ret_ben + (ret_cha@theta/N)\n",
    "    portfolio_risk = np.var(return_para)\n",
    "    return (gamma/2) * portfolio_risk - portfolio_return"
   ]
  },
  {
   "cell_type": "code",
   "execution_count": 5,
   "id": "9b0595b4",
   "metadata": {},
   "outputs": [
    {
     "data": {
      "text/plain": [
       "array([-1305.93495225,  -584.90878059, -2500.63153553,  2083.82990274,\n",
       "        -349.01966673,  1974.42044173,  -577.78919476,  2082.24573448])"
      ]
     },
     "execution_count": 5,
     "metadata": {},
     "output_type": "execute_result"
    }
   ],
   "source": [
    "#initial guess of theta\n",
    "initial_theta = [1.5]*k\n",
    "optimal_theta = minimize(mv_utility, initial_theta, args=(gamma,), method='Nelder-Mead')\n",
    "optimal_theta.x"
   ]
  },
  {
   "cell_type": "code",
   "execution_count": 6,
   "id": "e914fd76",
   "metadata": {},
   "outputs": [
    {
     "data": {
      "text/plain": [
       "array([-0.65296748, -0.29245439, -1.25031577,  1.04191495, -0.17450983,\n",
       "        0.98721022, -0.2888946 ,  1.04112287])"
      ]
     },
     "execution_count": 6,
     "metadata": {},
     "output_type": "execute_result"
    }
   ],
   "source": [
    "#rescale theta\n",
    "rescaled_theta = optimal_theta.x/2000\n",
    "rescaled_theta"
   ]
  },
  {
   "cell_type": "markdown",
   "id": "d9735d3a",
   "metadata": {},
   "source": [
    "# Section 3\n",
    "\n",
    "Compute the Sharpe ratio"
   ]
  },
  {
   "cell_type": "code",
   "execution_count": 7,
   "id": "269f15d9",
   "metadata": {},
   "outputs": [
    {
     "data": {
      "text/plain": [
       "Market    0.124969\n",
       "SMB       0.057118\n",
       "HML       0.080226\n",
       "RMW       0.121442\n",
       "CMA       0.137945\n",
       "UMD       0.146440\n",
       "ROE       0.197542\n",
       "IA        0.180832\n",
       "BAB       0.259683\n",
       "dtype: float64"
      ]
     },
     "execution_count": 7,
     "metadata": {},
     "output_type": "execute_result"
    }
   ],
   "source": [
    "SR_fac = ret.mean()/ret.std()\n",
    "SR_fac"
   ]
  },
  {
   "cell_type": "code",
   "execution_count": 8,
   "id": "21f54ab6",
   "metadata": {},
   "outputs": [
    {
     "data": {
      "text/plain": [
       "0.27442438973004935"
      ]
     },
     "execution_count": 8,
     "metadata": {},
     "output_type": "execute_result"
    }
   ],
   "source": [
    "return_para = ret.iloc[:,0] + (ret.iloc[:,1:]@(optimal_theta.x)/N)\n",
    "SR_para = np.mean(return_para)/np.std(return_para)\n",
    "SR_para"
   ]
  },
  {
   "cell_type": "markdown",
   "id": "19d1733e",
   "metadata": {},
   "source": [
    "The sharpe ratio of the parametric portfolio is larger than the sharpe ratio for each of the nine factors."
   ]
  },
  {
   "cell_type": "markdown",
   "id": "c1061def",
   "metadata": {},
   "source": [
    "# Section 4"
   ]
  },
  {
   "cell_type": "markdown",
   "id": "6eddd187",
   "metadata": {},
   "source": [
    "Rewrite equation (2) assuming that the market portfolio is the benchmark: \n",
    ">$r_{p,t+1} = r_{m,t+1} + \\sum^{N_t}_{i=1} (\\frac{1}{N_t}\\theta ^T F_{i,t}) r_{i,t+1}$ (3)\n",
    "\n",
    "where $ \\frac{1}{N_t}\\theta ^T F_t^T$ is the weight vector for the 2000 assets in our optimal mean-variance portfolio.\n",
    "\n",
    "Consequently, we can obtain the optimal portfolio weights for the assets by multiplying the optimal $\\theta$ vector with characteristics vector $F_t$ scaled by the numer of assets $N_t$"
   ]
  },
  {
   "cell_type": "code",
   "execution_count": null,
   "id": "6035e982",
   "metadata": {},
   "outputs": [],
   "source": []
  }
 ],
 "metadata": {
  "kernelspec": {
   "display_name": "Python 3 (ipykernel)",
   "language": "python",
   "name": "python3"
  },
  "language_info": {
   "codemirror_mode": {
    "name": "ipython",
    "version": 3
   },
   "file_extension": ".py",
   "mimetype": "text/x-python",
   "name": "python",
   "nbconvert_exporter": "python",
   "pygments_lexer": "ipython3",
   "version": "3.11.4"
  }
 },
 "nbformat": 4,
 "nbformat_minor": 5
}
